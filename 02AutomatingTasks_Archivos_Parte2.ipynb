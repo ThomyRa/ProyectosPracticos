{
 "cells": [
  {
   "cell_type": "markdown",
   "metadata": {
    "toc": true
   },
   "source": [
    "<h1>Table of Contents<span class=\"tocSkip\"></span></h1>\n",
    "<div class=\"toc\"><ul class=\"toc-item\"><li><span><a href=\"#Introducción\" data-toc-modified-id=\"Introducción-1\"><span class=\"toc-item-num\">1&nbsp;&nbsp;</span>Introducción</a></span></li><li><span><a href=\"#El-módulo-shutil\" data-toc-modified-id=\"El-módulo-shutil-2\"><span class=\"toc-item-num\">2&nbsp;&nbsp;</span>El módulo <code>shutil</code></a></span><ul class=\"toc-item\"><li><span><a href=\"#Copiando-archivos-y-carpetas\" data-toc-modified-id=\"Copiando-archivos-y-carpetas-2.1\"><span class=\"toc-item-num\">2.1&nbsp;&nbsp;</span>Copiando archivos y carpetas</a></span></li><li><span><a href=\"#Moviendo-y-renombrando-archivos-y-directorios\" data-toc-modified-id=\"Moviendo-y-renombrando-archivos-y-directorios-2.2\"><span class=\"toc-item-num\">2.2&nbsp;&nbsp;</span>Moviendo y renombrando archivos y directorios</a></span></li><li><span><a href=\"#Eliminando-archivos-y-directorios-permanentemente\" data-toc-modified-id=\"Eliminando-archivos-y-directorios-permanentemente-2.3\"><span class=\"toc-item-num\">2.3&nbsp;&nbsp;</span>Eliminando archivos y directorios permanentemente</a></span></li><li><span><a href=\"#Eliminando-archivos-y-carpetas-de-manera-segura-usando-el-módulo-send2trash\" data-toc-modified-id=\"Eliminando-archivos-y-carpetas-de-manera-segura-usando-el-módulo-send2trash-2.4\"><span class=\"toc-item-num\">2.4&nbsp;&nbsp;</span>Eliminando archivos y carpetas de manera segura usando el módulo <code>send2trash</code></a></span></li></ul></li><li><span><a href=\"#Recorriendo-el-árbol-de-un-directorio\" data-toc-modified-id=\"Recorriendo-el-árbol-de-un-directorio-3\"><span class=\"toc-item-num\">3&nbsp;&nbsp;</span>Recorriendo el árbol de un directorio</a></span></li><li><span><a href=\"#Comprimiendo-archivos-con-el-módulo-zipfile\" data-toc-modified-id=\"Comprimiendo-archivos-con-el-módulo-zipfile-4\"><span class=\"toc-item-num\">4&nbsp;&nbsp;</span>Comprimiendo archivos con el módulo <code>zipfile</code></a></span><ul class=\"toc-item\"><li><span><a href=\"#Leyendo-archivos-ZIP\" data-toc-modified-id=\"Leyendo-archivos-ZIP-4.1\"><span class=\"toc-item-num\">4.1&nbsp;&nbsp;</span>Leyendo archivos ZIP</a></span></li><li><span><a href=\"#Comprimiendo-archivos-con-el-módulo-zipfile\" data-toc-modified-id=\"Comprimiendo-archivos-con-el-módulo-zipfile-4.2\"><span class=\"toc-item-num\">4.2&nbsp;&nbsp;</span>Comprimiendo archivos con el módulo <code>zipfile</code></a></span></li><li><span><a href=\"#Creando-y-agregando-archivos-al-archivo-ZIP\" data-toc-modified-id=\"Creando-y-agregando-archivos-al-archivo-ZIP-4.3\"><span class=\"toc-item-num\">4.3&nbsp;&nbsp;</span>Creando y agregando archivos al archivo ZIP</a></span></li></ul></li></ul></div>"
   ]
  },
  {
   "cell_type": "markdown",
   "metadata": {},
   "source": [
    "# Introducción"
   ]
  },
  {
   "cell_type": "markdown",
   "metadata": {},
   "source": [
    "En el módulo anterior, aprendimos cómo crear y escribir sobre los archivos recién creados usando Pyhton. Nuestros programas también pueden organizar archivos preexistentes en nuestro disco duro. Tal vez nos ha pasado que tenemos un directorio con decenas o cientos de archivos que debemos renombrar, mover, comprimir manualmente todos ellos. O quizás estás otras situaciones :\n",
    "\n",
    "+ Realizar una copia de todos los archivos PDF (únicamente los archivos PDF) en cada subdirectorio de nuestro directorio actual.\n",
    "+ Remover los ceros al inicio de los nombres de archivo en un directorio con cientos de archivos, por ejemplo, llamados *spam001.txt*, *spam002.txt*, *spam003.txt* y así sucesivamente.\n",
    "+ Comprimir el contenido de varios directorios en un archivo ZIP (el cual puede ser un backup del sistema)\n",
    "\n",
    "Todas estás tareas aburridas, nos ruegan para que las automaticemos usando Python. Al programar nuestro computador para que realice estas tareas, podemos transformarlas en “eficiente empleado” que no comete errores."
   ]
  },
  {
   "cell_type": "markdown",
   "metadata": {},
   "source": [
    "# El módulo `shutil`"
   ]
  },
  {
   "cell_type": "markdown",
   "metadata": {},
   "source": [
    "El módulo `shutil` (o *shell utilities*) posee funciones que nos permiten copiar, mover, renombrar y eliminar archivos en nuestros programas de Python. Para usar estás funciones, primero debemos importar el módulo: `import shutil`."
   ]
  },
  {
   "cell_type": "markdown",
   "metadata": {},
   "source": [
    "## Copiando archivos y carpetas"
   ]
  },
  {
   "cell_type": "markdown",
   "metadata": {},
   "source": [
    "El módulo `shutil` suministra funciones para copiar archivos así como directorios completos. Al llamar a  `shutil.copy(origen, destino)`, este copiará el archivo en  la ruta *source* en la ruta *destino*. Ambas, origen y destino deben ser cadenas de caracteres. Si el destino es un nombre de archivo, este se usará como el nombre del archivo recién copiado. Veamos un ejemplo."
   ]
  },
  {
   "cell_type": "code",
   "execution_count": 9,
   "metadata": {},
   "outputs": [
    {
     "data": {
      "text/plain": [
       "'/home/thomy/Documentos/delicious/bacon.txt'"
      ]
     },
     "execution_count": 9,
     "metadata": {},
     "output_type": "execute_result"
    }
   ],
   "source": [
    "import shutil, os\n",
    "\n",
    "\n",
    "os.chdir('/home/thomy/Documentos/')\n",
    "os.mkdir('/home/thomy/Documentos/delicious')\n",
    "\n",
    "shutil.copy('/home/thomy/Documentos/bacon.txt', '/home/thomy/Documentos/delicious/')"
   ]
  },
  {
   "cell_type": "code",
   "execution_count": 10,
   "metadata": {},
   "outputs": [
    {
     "data": {
      "text/plain": [
       "['myData.dir',\n",
       " 'bacon.txt',\n",
       " 'myData.bak',\n",
       " 'sonnet29.txt',\n",
       " 'hello.txt',\n",
       " 'myData.dat',\n",
       " 'Project.docx',\n",
       " 'proyectoQuiz',\n",
       " '__pycache__',\n",
       " 'capitales.txt',\n",
       " 'proyectoMCB',\n",
       " 'myCats.py',\n",
       " 'delicious']"
      ]
     },
     "execution_count": 10,
     "metadata": {},
     "output_type": "execute_result"
    }
   ],
   "source": [
    "os.listdir('/home/thomy/Documentos/')"
   ]
  },
  {
   "cell_type": "code",
   "execution_count": 11,
   "metadata": {},
   "outputs": [
    {
     "data": {
      "text/plain": [
       "['bacon.txt']"
      ]
     },
     "execution_count": 11,
     "metadata": {},
     "output_type": "execute_result"
    }
   ],
   "source": [
    "os.listdir('/home/thomy/Documentos/delicious/')"
   ]
  },
  {
   "cell_type": "markdown",
   "metadata": {},
   "source": [
    "Al llamar `shutil.copy()` copiamos el archivos en la ruta `'/home/thomy/Documentos/bacon.txt'` al directorio `'/home/thomy/Documentos/delicious/'`. Nótese que al especificar un directorio como destino, el nombre de archivo original *bacon.txt* es usado para el archivo recién copiado."
   ]
  },
  {
   "cell_type": "code",
   "execution_count": 12,
   "metadata": {},
   "outputs": [
    {
     "data": {
      "text/plain": [
       "'/home/thomy/Documentos/delicious/bacon2.txt'"
      ]
     },
     "execution_count": 12,
     "metadata": {},
     "output_type": "execute_result"
    }
   ],
   "source": [
    "shutil.copy('/home/thomy/Documentos/bacon.txt', '/home/thomy/Documentos/delicious/bacon2.txt')"
   ]
  },
  {
   "cell_type": "code",
   "execution_count": 13,
   "metadata": {},
   "outputs": [
    {
     "data": {
      "text/plain": [
       "['bacon.txt', 'bacon2.txt']"
      ]
     },
     "execution_count": 13,
     "metadata": {},
     "output_type": "execute_result"
    }
   ],
   "source": [
    "os.listdir('/home/thomy/Documentos/delicious/')"
   ]
  },
  {
   "cell_type": "markdown",
   "metadata": {},
   "source": [
    "Similarmente, en el último llamado a `shutil.copy()` se copia el archivo *bacon.txt* pero nótese que la ruta de destino es el nombre de archivo que le asignamos al nuevo archivo copiado, en este caso *bacon2.txt*."
   ]
  },
  {
   "cell_type": "markdown",
   "metadata": {},
   "source": [
    "Mientras `shutil.copy()` copia un único archivo, `shutil.copytree()` copia un directorio completo y cada directorio contenido en éste. Al llamar `shutil.copytree(origen, destino)`, la función copiará el directorio de la ruta **origen** junto con todos los archivos y carpetas contenidos en es este al directorio en la ruta **destino**. Los parámetros de *origen* y *destino* corresponden a cadenas de caracteres. Finalmente la función retornará una cadena de la ruta del directorio copiado."
   ]
  },
  {
   "cell_type": "code",
   "execution_count": 2,
   "metadata": {},
   "outputs": [
    {
     "data": {
      "text/plain": [
       "'/home/thomy/Documentos/delicious_backup/'"
      ]
     },
     "execution_count": 2,
     "metadata": {},
     "output_type": "execute_result"
    }
   ],
   "source": [
    "import shutil, os\n",
    "\n",
    "os.chdir('/home/thomy/Documentos/')\n",
    "\n",
    "shutil.copytree('/home/thomy/Documentos/delicious/', '/home/thomy/Documentos/delicious_backup/')"
   ]
  },
  {
   "cell_type": "code",
   "execution_count": 3,
   "metadata": {},
   "outputs": [
    {
     "data": {
      "text/plain": [
       "['myData.dir',\n",
       " 'delicious_backup',\n",
       " 'bacon.txt',\n",
       " 'myData.bak',\n",
       " 'sonnet29.txt',\n",
       " 'hello.txt',\n",
       " 'myData.dat',\n",
       " 'Project.docx',\n",
       " 'proyectoQuiz',\n",
       " '__pycache__',\n",
       " 'capitales.txt',\n",
       " 'proyectoMCB',\n",
       " 'myCats.py',\n",
       " 'delicious']"
      ]
     },
     "execution_count": 3,
     "metadata": {},
     "output_type": "execute_result"
    }
   ],
   "source": [
    "os.listdir('/home/thomy/Documentos/')"
   ]
  },
  {
   "cell_type": "markdown",
   "metadata": {},
   "source": [
    "`shutil.copytree()` crea un nuevo directorio llamado `'delicious_backup'` con el mismo contenido del directorio `'delicious'`. A partir de este momento podemos realizar un backup de nuestros archivos."
   ]
  },
  {
   "cell_type": "markdown",
   "metadata": {},
   "source": [
    "## Moviendo y renombrando archivos y directorios"
   ]
  },
  {
   "cell_type": "markdown",
   "metadata": {},
   "source": [
    "Llamar a `shutil.move(origen, destino)` moverá el archivo o el directorio de la ruta origen a la ruta destino y retornara una cadena de caracteres que corresponde a la dirección absoluta de la ruta destino.\n",
    "Si el destino apunta a un directorio, el archivo de origen es movido al directorio destino y conserva su nombre de archivo. Veamos un ejemplo:"
   ]
  },
  {
   "cell_type": "code",
   "execution_count": 1,
   "metadata": {},
   "outputs": [
    {
     "data": {
      "text/plain": [
       "['myData.dir',\n",
       " 'delicious_backup',\n",
       " 'myData.bak',\n",
       " 'sonnet29.txt',\n",
       " 'hello.txt',\n",
       " 'myData.dat',\n",
       " 'Project.docx',\n",
       " 'proyectoQuiz',\n",
       " '__pycache__',\n",
       " 'eggs',\n",
       " 'capitales.txt',\n",
       " 'proyectoMCB',\n",
       " 'myCats.py',\n",
       " 'delicious']"
      ]
     },
     "execution_count": 1,
     "metadata": {},
     "output_type": "execute_result"
    }
   ],
   "source": [
    "import shutil, os\n",
    "\n",
    "os.listdir('/home/thomy/Documentos/')"
   ]
  },
  {
   "cell_type": "code",
   "execution_count": 5,
   "metadata": {},
   "outputs": [
    {
     "data": {
      "text/plain": [
       "'/home/thomy/Documentos/eggs'"
      ]
     },
     "execution_count": 5,
     "metadata": {},
     "output_type": "execute_result"
    }
   ],
   "source": [
    "shutil.move('/home/thomy/Documentos/bacon.txt', '/home/thomy/Documentos/eggs')"
   ]
  },
  {
   "cell_type": "code",
   "execution_count": 3,
   "metadata": {},
   "outputs": [
    {
     "data": {
      "text/plain": [
       "['myData.dir',\n",
       " 'delicious_backup',\n",
       " 'bacon.txt',\n",
       " 'myData.bak',\n",
       " 'sonnet29.txt',\n",
       " 'hello.txt',\n",
       " 'myData.dat',\n",
       " 'Project.docx',\n",
       " 'proyectoQuiz',\n",
       " '__pycache__',\n",
       " 'eggs',\n",
       " 'capitales.txt',\n",
       " 'proyectoMCB',\n",
       " 'myCats.py',\n",
       " 'delicious']"
      ]
     },
     "execution_count": 3,
     "metadata": {},
     "output_type": "execute_result"
    }
   ],
   "source": [
    "os.listdir('/home/thomy/Documentos/')"
   ]
  },
  {
   "cell_type": "code",
   "execution_count": 13,
   "metadata": {},
   "outputs": [],
   "source": [
    "os.mkdir('/home/thomy/Documentos/eggs')"
   ]
  },
  {
   "cell_type": "code",
   "execution_count": 14,
   "metadata": {},
   "outputs": [
    {
     "data": {
      "text/plain": [
       "'/home/thomy/Documentos/eggs/bacon.txt'"
      ]
     },
     "execution_count": 14,
     "metadata": {},
     "output_type": "execute_result"
    }
   ],
   "source": [
    "shutil.move('/home/thomy/Documentos/bacon.txt', '/home/thomy/Documentos/eggs/')"
   ]
  },
  {
   "cell_type": "code",
   "execution_count": 15,
   "metadata": {},
   "outputs": [
    {
     "data": {
      "text/plain": [
       "['bacon.txt']"
      ]
     },
     "execution_count": 15,
     "metadata": {},
     "output_type": "execute_result"
    }
   ],
   "source": [
    "os.listdir('/home/thomy/Documentos/eggs/')"
   ]
  },
  {
   "cell_type": "markdown",
   "metadata": {},
   "source": [
    "Al realizar el ejemplo anterior, le dijimos a Pyhton “Mueva `'/home/thomy/Documentos/bacon.txt'` al directorio `'/home/thomy/Documentos/eggs/'`”. Si hubiese existido un archivo llamado *bacon.txt* en el directorio *eggs*, éste se hubiese sobreescrito. Dado que es fácil, sobreescribir accidentalmente archivos de esta manera, debemos ser cuidadosos a la hora de usar `shutil.move()`.\n",
    "\n",
    "La ruta de destino también puede especificar un nombre de archivo. En el siguiente ejemplo, el archivo origen es movido y renombrado."
   ]
  },
  {
   "cell_type": "code",
   "execution_count": 4,
   "metadata": {},
   "outputs": [
    {
     "data": {
      "text/plain": [
       "'/home/thomy/Documentos/eggs/new_bacon.txt'"
      ]
     },
     "execution_count": 4,
     "metadata": {},
     "output_type": "execute_result"
    }
   ],
   "source": [
    "shutil.move('/home/thomy/Documentos/bacon.txt', '/home/thomy/Documentos/eggs/new_bacon.txt')"
   ]
  },
  {
   "cell_type": "markdown",
   "metadata": {},
   "source": [
    "Esta línea dice, “Mueva `'/home/thomy/Documentos/bacon.txt'` al directorio `'/home/thomy/Documentos/eggs/'` y renombre el archivo a *new_bacon.txt*”. Ambas instrucciones mostradas anteriormente funcionan si existe un directorio *eggs* en `'/home/thomy/Documentos/'`. Sin embargo, si no existe el directorio *eggs*, `shutil.move()` renombrará *bacon.txt* a un archivo llamado *eggs*."
   ]
  },
  {
   "cell_type": "code",
   "execution_count": 5,
   "metadata": {},
   "outputs": [
    {
     "data": {
      "text/plain": [
       "'/home/thomy/Documentos/eggs'"
      ]
     },
     "execution_count": 5,
     "metadata": {},
     "output_type": "execute_result"
    }
   ],
   "source": [
    "shutil.move('/home/thomy/Documentos/bacon.txt', '/home/thomy/Documentos/eggs')"
   ]
  },
  {
   "cell_type": "code",
   "execution_count": 6,
   "metadata": {},
   "outputs": [
    {
     "data": {
      "text/plain": [
       "['myData.dir',\n",
       " 'delicious_backup',\n",
       " 'myData.bak',\n",
       " 'sonnet29.txt',\n",
       " 'hello.txt',\n",
       " 'myData.dat',\n",
       " 'Project.docx',\n",
       " 'proyectoQuiz',\n",
       " '__pycache__',\n",
       " 'eggs',\n",
       " 'capitales.txt',\n",
       " 'proyectoMCB',\n",
       " 'myCats.py',\n",
       " 'delicious']"
      ]
     },
     "execution_count": 6,
     "metadata": {},
     "output_type": "execute_result"
    }
   ],
   "source": [
    "os.listdir('/home/thomy/Documentos/')"
   ]
  },
  {
   "cell_type": "markdown",
   "metadata": {},
   "source": [
    "En el ejemplo anterior `shutil.move()` no puede encontrar un directorio llamado *eggs* en la ruta `'/home/thomy/Documentos/'`, así que asume que la ruta de destino es un nombre de archivo y no un directorio. De esta manera *bacon.txt* es renombrado a *eggs* (un archivo de texto sin extensión *.txt*). Probablemente, esto no era lo que buscábamos. Este bug puede resultar difícil de ubicar en nuestros programas, en ese sentido, es una razón de más para tener cuidado al usar `shuitil.move()`.\n",
    "\n",
    "Finalmente, los directorios que componen la ruta destino deben existir, de lo contrario, Python mostrará el siguiente mensaje de error.\n"
   ]
  },
  {
   "cell_type": "code",
   "execution_count": 7,
   "metadata": {},
   "outputs": [
    {
     "ename": "FileNotFoundError",
     "evalue": "[Errno 2] No such file or directory: '/Directorio/Inexistente/'",
     "output_type": "error",
     "traceback": [
      "\u001b[0;31m---------------------------------------------------------------------------\u001b[0m",
      "\u001b[0;31mFileNotFoundError\u001b[0m                         Traceback (most recent call last)",
      "\u001b[0;32m~/anaconda3/lib/python3.7/shutil.py\u001b[0m in \u001b[0;36mmove\u001b[0;34m(src, dst, copy_function)\u001b[0m\n\u001b[1;32m    565\u001b[0m     \u001b[0;32mtry\u001b[0m\u001b[0;34m:\u001b[0m\u001b[0;34m\u001b[0m\u001b[0;34m\u001b[0m\u001b[0m\n\u001b[0;32m--> 566\u001b[0;31m         \u001b[0mos\u001b[0m\u001b[0;34m.\u001b[0m\u001b[0mrename\u001b[0m\u001b[0;34m(\u001b[0m\u001b[0msrc\u001b[0m\u001b[0;34m,\u001b[0m \u001b[0mreal_dst\u001b[0m\u001b[0;34m)\u001b[0m\u001b[0;34m\u001b[0m\u001b[0;34m\u001b[0m\u001b[0m\n\u001b[0m\u001b[1;32m    567\u001b[0m     \u001b[0;32mexcept\u001b[0m \u001b[0mOSError\u001b[0m\u001b[0;34m:\u001b[0m\u001b[0;34m\u001b[0m\u001b[0;34m\u001b[0m\u001b[0m\n",
      "\u001b[0;31mFileNotFoundError\u001b[0m: [Errno 2] No such file or directory: '/home/thomy/Documentos/bacon.txt' -> '/Directorio/Inexistente/'",
      "\nDuring handling of the above exception, another exception occurred:\n",
      "\u001b[0;31mFileNotFoundError\u001b[0m                         Traceback (most recent call last)",
      "\u001b[0;32m<ipython-input-7-4bfbacfbed13>\u001b[0m in \u001b[0;36m<module>\u001b[0;34m\u001b[0m\n\u001b[0;32m----> 1\u001b[0;31m \u001b[0mshutil\u001b[0m\u001b[0;34m.\u001b[0m\u001b[0mmove\u001b[0m\u001b[0;34m(\u001b[0m\u001b[0;34m'/home/thomy/Documentos/bacon.txt'\u001b[0m\u001b[0;34m,\u001b[0m \u001b[0;34m'/Directorio/Inexistente/'\u001b[0m\u001b[0;34m)\u001b[0m\u001b[0;34m\u001b[0m\u001b[0;34m\u001b[0m\u001b[0m\n\u001b[0m",
      "\u001b[0;32m~/anaconda3/lib/python3.7/shutil.py\u001b[0m in \u001b[0;36mmove\u001b[0;34m(src, dst, copy_function)\u001b[0m\n\u001b[1;32m    578\u001b[0m             \u001b[0mrmtree\u001b[0m\u001b[0;34m(\u001b[0m\u001b[0msrc\u001b[0m\u001b[0;34m)\u001b[0m\u001b[0;34m\u001b[0m\u001b[0;34m\u001b[0m\u001b[0m\n\u001b[1;32m    579\u001b[0m         \u001b[0;32melse\u001b[0m\u001b[0;34m:\u001b[0m\u001b[0;34m\u001b[0m\u001b[0;34m\u001b[0m\u001b[0m\n\u001b[0;32m--> 580\u001b[0;31m             \u001b[0mcopy_function\u001b[0m\u001b[0;34m(\u001b[0m\u001b[0msrc\u001b[0m\u001b[0;34m,\u001b[0m \u001b[0mreal_dst\u001b[0m\u001b[0;34m)\u001b[0m\u001b[0;34m\u001b[0m\u001b[0;34m\u001b[0m\u001b[0m\n\u001b[0m\u001b[1;32m    581\u001b[0m             \u001b[0mos\u001b[0m\u001b[0;34m.\u001b[0m\u001b[0munlink\u001b[0m\u001b[0;34m(\u001b[0m\u001b[0msrc\u001b[0m\u001b[0;34m)\u001b[0m\u001b[0;34m\u001b[0m\u001b[0;34m\u001b[0m\u001b[0m\n\u001b[1;32m    582\u001b[0m     \u001b[0;32mreturn\u001b[0m \u001b[0mreal_dst\u001b[0m\u001b[0;34m\u001b[0m\u001b[0;34m\u001b[0m\u001b[0m\n",
      "\u001b[0;32m~/anaconda3/lib/python3.7/shutil.py\u001b[0m in \u001b[0;36mcopy2\u001b[0;34m(src, dst, follow_symlinks)\u001b[0m\n\u001b[1;32m    264\u001b[0m     \u001b[0;32mif\u001b[0m \u001b[0mos\u001b[0m\u001b[0;34m.\u001b[0m\u001b[0mpath\u001b[0m\u001b[0;34m.\u001b[0m\u001b[0misdir\u001b[0m\u001b[0;34m(\u001b[0m\u001b[0mdst\u001b[0m\u001b[0;34m)\u001b[0m\u001b[0;34m:\u001b[0m\u001b[0;34m\u001b[0m\u001b[0;34m\u001b[0m\u001b[0m\n\u001b[1;32m    265\u001b[0m         \u001b[0mdst\u001b[0m \u001b[0;34m=\u001b[0m \u001b[0mos\u001b[0m\u001b[0;34m.\u001b[0m\u001b[0mpath\u001b[0m\u001b[0;34m.\u001b[0m\u001b[0mjoin\u001b[0m\u001b[0;34m(\u001b[0m\u001b[0mdst\u001b[0m\u001b[0;34m,\u001b[0m \u001b[0mos\u001b[0m\u001b[0;34m.\u001b[0m\u001b[0mpath\u001b[0m\u001b[0;34m.\u001b[0m\u001b[0mbasename\u001b[0m\u001b[0;34m(\u001b[0m\u001b[0msrc\u001b[0m\u001b[0;34m)\u001b[0m\u001b[0;34m)\u001b[0m\u001b[0;34m\u001b[0m\u001b[0;34m\u001b[0m\u001b[0m\n\u001b[0;32m--> 266\u001b[0;31m     \u001b[0mcopyfile\u001b[0m\u001b[0;34m(\u001b[0m\u001b[0msrc\u001b[0m\u001b[0;34m,\u001b[0m \u001b[0mdst\u001b[0m\u001b[0;34m,\u001b[0m \u001b[0mfollow_symlinks\u001b[0m\u001b[0;34m=\u001b[0m\u001b[0mfollow_symlinks\u001b[0m\u001b[0;34m)\u001b[0m\u001b[0;34m\u001b[0m\u001b[0;34m\u001b[0m\u001b[0m\n\u001b[0m\u001b[1;32m    267\u001b[0m     \u001b[0mcopystat\u001b[0m\u001b[0;34m(\u001b[0m\u001b[0msrc\u001b[0m\u001b[0;34m,\u001b[0m \u001b[0mdst\u001b[0m\u001b[0;34m,\u001b[0m \u001b[0mfollow_symlinks\u001b[0m\u001b[0;34m=\u001b[0m\u001b[0mfollow_symlinks\u001b[0m\u001b[0;34m)\u001b[0m\u001b[0;34m\u001b[0m\u001b[0;34m\u001b[0m\u001b[0m\n\u001b[1;32m    268\u001b[0m     \u001b[0;32mreturn\u001b[0m \u001b[0mdst\u001b[0m\u001b[0;34m\u001b[0m\u001b[0;34m\u001b[0m\u001b[0m\n",
      "\u001b[0;32m~/anaconda3/lib/python3.7/shutil.py\u001b[0m in \u001b[0;36mcopyfile\u001b[0;34m(src, dst, follow_symlinks)\u001b[0m\n\u001b[1;32m    119\u001b[0m     \u001b[0;32melse\u001b[0m\u001b[0;34m:\u001b[0m\u001b[0;34m\u001b[0m\u001b[0;34m\u001b[0m\u001b[0m\n\u001b[1;32m    120\u001b[0m         \u001b[0;32mwith\u001b[0m \u001b[0mopen\u001b[0m\u001b[0;34m(\u001b[0m\u001b[0msrc\u001b[0m\u001b[0;34m,\u001b[0m \u001b[0;34m'rb'\u001b[0m\u001b[0;34m)\u001b[0m \u001b[0;32mas\u001b[0m \u001b[0mfsrc\u001b[0m\u001b[0;34m:\u001b[0m\u001b[0;34m\u001b[0m\u001b[0;34m\u001b[0m\u001b[0m\n\u001b[0;32m--> 121\u001b[0;31m             \u001b[0;32mwith\u001b[0m \u001b[0mopen\u001b[0m\u001b[0;34m(\u001b[0m\u001b[0mdst\u001b[0m\u001b[0;34m,\u001b[0m \u001b[0;34m'wb'\u001b[0m\u001b[0;34m)\u001b[0m \u001b[0;32mas\u001b[0m \u001b[0mfdst\u001b[0m\u001b[0;34m:\u001b[0m\u001b[0;34m\u001b[0m\u001b[0;34m\u001b[0m\u001b[0m\n\u001b[0m\u001b[1;32m    122\u001b[0m                 \u001b[0mcopyfileobj\u001b[0m\u001b[0;34m(\u001b[0m\u001b[0mfsrc\u001b[0m\u001b[0;34m,\u001b[0m \u001b[0mfdst\u001b[0m\u001b[0;34m)\u001b[0m\u001b[0;34m\u001b[0m\u001b[0;34m\u001b[0m\u001b[0m\n\u001b[1;32m    123\u001b[0m     \u001b[0;32mreturn\u001b[0m \u001b[0mdst\u001b[0m\u001b[0;34m\u001b[0m\u001b[0;34m\u001b[0m\u001b[0m\n",
      "\u001b[0;31mFileNotFoundError\u001b[0m: [Errno 2] No such file or directory: '/Directorio/Inexistente/'"
     ]
    }
   ],
   "source": [
    "shutil.move('/home/thomy/Documentos/bacon.txt', '/Directorio/Inexistente/')"
   ]
  },
  {
   "cell_type": "markdown",
   "metadata": {},
   "source": [
    "## Eliminando archivos y directorios permanentemente"
   ]
  },
  {
   "cell_type": "markdown",
   "metadata": {},
   "source": [
    "Podemos eliminar un único archivo o un único directorio vacío con el módulo `os`, mientras que para eliminar un directorio y todo su contenido, podemos usar el módulo `shutil`.\n",
    "\n",
    "+ Llamar a `os.unlink(ruta)` eliminará el archivo en la rata especificada.\n",
    "+ Llamar a `os.rmdir(ruta)` eliminará el directorio en la ruta pasada como argumento. Este directorio debe estar vacío; no puede contener otros directorios o archivos.\n",
    "+ Llamar a `shutil.rmtree(ruta)`, eliminará el directorio en la ruta especificada junto con todos los archivos y directorios en este contenidos.\n",
    "\n",
    "¡Mucho cuidado al usar estas funciones en nuestros programas! Es recomendado usualmente correr nuestros programas con estas líneas comentadas y agregando la función `print()` para mostrar los archivos que se eliminarían. He aquí un programa en Python que fue creado para eliminar todos los archivos con extensión *.txt* pero tiene un error de escritura que causa la eliminación de todos los archivos con extensión *.rxt*:\n"
   ]
  },
  {
   "cell_type": "code",
   "execution_count": null,
   "metadata": {},
   "outputs": [],
   "source": [
    "import os\n",
    "\n",
    "for filename in os.listdir():\n",
    "    if filename.endswith('.rxt'):\n",
    "        os.unlink(filename)"
   ]
  },
  {
   "cell_type": "markdown",
   "metadata": {},
   "source": [
    "Si tuviéramos algún archivo importante con la extensión *.rxt*, éstos hubiesen sido eliminados accidentalmente de manera permanente. En su lugar, deberíamos correr el programa de la siguiente manera:"
   ]
  },
  {
   "cell_type": "code",
   "execution_count": 3,
   "metadata": {},
   "outputs": [],
   "source": [
    "import os\n",
    "\n",
    "for filename in os.listdir():\n",
    "    if filename.endswith('.rxt'):\n",
    "        #os.unlink(filename)\n",
    "        print(filename)"
   ]
  },
  {
   "cell_type": "markdown",
   "metadata": {},
   "source": [
    "Ahora el llamado a `os.unlink()` se encuentra comentado, así que Python lo ignora. Adicionalmente, imprimimos el nombre de archivo que hubiésemos eliminado. Correr esta versión del programa primero, mostrará que accidentalmente le dijimos al programa que eliminará todos los archivos con extensión *.rxt* en lugar de los archivos con extensión *.txt*.\n",
    "\n",
    "Una vez estemos seguros de que nuestro programa funciona como queremos, eliminamos la línea `print(filename)` y descomentamos la línea `os.unlink(filename)` y corremos el programa de nuevo para eliminar los archivos deseados."
   ]
  },
  {
   "cell_type": "markdown",
   "metadata": {},
   "source": [
    "## Eliminando archivos y carpetas de manera segura usando el módulo `send2trash`"
   ]
  },
  {
   "cell_type": "markdown",
   "metadata": {},
   "source": [
    "Dado que la función `shutil.rmtree()` elimina archivos y carpetas de manera irreversible, puede ser peligroso usarla. Una mejor manera de eliminar archivos y carpetas es mediante el módulo `send2trash` creado por terceros. Para instalarlo, podemos utilizar el siguiente comando en el terminal de Anaconda Navigator: `conda install send2trash`.\n",
    "\n",
    "Usar el módulo `send2trash` es mucho más seguro que las funciones tradicionales vistas previamente ya que enviará los archivos y carpetas a la papelera de reciclaje en lugar de eliminarlos permanentemente. Si un bug en nuestro programa elimina algo accidentalmente usando `send2trash`, tenemos la posibilidad de restaurar dichos archivos o carpetas desde la papelera de reciclaje.\n",
    "\n",
    "Después de instalar `send2trash` veamos el siguiente ejemplo:"
   ]
  },
  {
   "cell_type": "code",
   "execution_count": 7,
   "metadata": {},
   "outputs": [
    {
     "data": {
      "text/plain": [
       "25"
      ]
     },
     "execution_count": 7,
     "metadata": {},
     "output_type": "execute_result"
    }
   ],
   "source": [
    "import send2trash\n",
    "\n",
    "baconFile = open('/home/thomy/Documentos/bacon2.txt', 'a')\n",
    "baconFile.write('Bacon is not a vegetable.')"
   ]
  },
  {
   "cell_type": "code",
   "execution_count": 8,
   "metadata": {},
   "outputs": [
    {
     "data": {
      "text/plain": [
       "['myData.dir',\n",
       " 'delicious_backup',\n",
       " 'bacon.txt',\n",
       " 'myData.bak',\n",
       " 'sonnet29.txt',\n",
       " 'hello.txt',\n",
       " 'myData.dat',\n",
       " 'bacon2.txt',\n",
       " 'Project.docx',\n",
       " 'proyectoQuiz',\n",
       " '__pycache__',\n",
       " 'eggs',\n",
       " 'capitales.txt',\n",
       " 'proyectoMCB',\n",
       " 'myCats.py',\n",
       " 'delicious']"
      ]
     },
     "execution_count": 8,
     "metadata": {},
     "output_type": "execute_result"
    }
   ],
   "source": [
    "import os\n",
    "os.listdir('/home/thomy/Documentos/')"
   ]
  },
  {
   "cell_type": "code",
   "execution_count": 9,
   "metadata": {},
   "outputs": [],
   "source": [
    "baconFile.close()\n",
    "send2trash.send2trash('/home/thomy/Documentos/bacon2.txt')"
   ]
  },
  {
   "cell_type": "code",
   "execution_count": 10,
   "metadata": {},
   "outputs": [
    {
     "data": {
      "text/plain": [
       "['myData.dir',\n",
       " 'delicious_backup',\n",
       " 'bacon.txt',\n",
       " 'myData.bak',\n",
       " 'sonnet29.txt',\n",
       " 'hello.txt',\n",
       " 'myData.dat',\n",
       " 'Project.docx',\n",
       " 'proyectoQuiz',\n",
       " '__pycache__',\n",
       " 'eggs',\n",
       " 'capitales.txt',\n",
       " 'proyectoMCB',\n",
       " 'myCats.py',\n",
       " 'delicious']"
      ]
     },
     "execution_count": 10,
     "metadata": {},
     "output_type": "execute_result"
    }
   ],
   "source": [
    "os.listdir('/home/thomy/Documentos/')"
   ]
  },
  {
   "cell_type": "markdown",
   "metadata": {},
   "source": [
    "En términos generales, deberíamos usar siempre la función `send2trash.send2trash()` para eliminar archivos o carpetas. No obstante, si bien podemos restaurar dichos archivos o carpetas desde la papelera de reciclaje, `send2trash` no libera espacio como lo hace el borrar permanentemente. Si deseamos un programa que libere espacio en nuestro disco duro, usemos las funciones de los módulos `os` y `shutil`. Adicionalmente, nótese que la función `send2trash()` sólo puede enviar archivos a la papelera de reciclaje; ésta no puede sacar archivos de allí."
   ]
  },
  {
   "cell_type": "markdown",
   "metadata": {},
   "source": [
    "# Recorriendo el árbol de un directorio"
   ]
  },
  {
   "cell_type": "markdown",
   "metadata": {},
   "source": [
    "Supongamos que deseamos renombrar cada archivo en algún directorio junto con cada directorio dentro de este. En otras palabras, deseamos recorrer el árbol de un directorio modificando cada archivo sobre la marcha. Hacer un programa que realice esta tarea puede ser un poco complejo; afortunadamente, Python suministra una función que nos permite manejar este proceso. Veamos el directorio *C:\\Delicious* y su contenido:"
   ]
  },
  {
   "cell_type": "markdown",
   "metadata": {},
   "source": [
    "<img src=\"https://i.imgur.com/FXabYzc.jpg\" width=\"200\">"
   ]
  },
  {
   "cell_type": "markdown",
   "metadata": {},
   "source": [
    "Este es un programa de ejemplo que usa la función `os.walk()` en el árbol del directorio de la figura anterior:"
   ]
  },
  {
   "cell_type": "code",
   "execution_count": 11,
   "metadata": {},
   "outputs": [
    {
     "name": "stdout",
     "output_type": "stream",
     "text": [
      "El directorio actual es /home/thomy/Documentos/delicious/\n",
      "EL SUBDIRECTORIO DE /home/thomy/Documentos/delicious/: walnut\n",
      "EL SUBDIRECTORIO DE /home/thomy/Documentos/delicious/: cats\n",
      "ARCHIVO DENTRO DE /home/thomy/Documentos/delicious/: bacon.txt\n",
      "ARCHIVO DENTRO DE /home/thomy/Documentos/delicious/: bacon2.txt\n",
      "ARCHIVO DENTRO DE /home/thomy/Documentos/delicious/: spam.txt\n",
      "\n",
      "El directorio actual es /home/thomy/Documentos/delicious/walnut\n",
      "EL SUBDIRECTORIO DE /home/thomy/Documentos/delicious/walnut: waffles\n",
      "\n",
      "El directorio actual es /home/thomy/Documentos/delicious/walnut/waffles\n",
      "ARCHIVO DENTRO DE /home/thomy/Documentos/delicious/walnut/waffles: butter.txt\n",
      "\n",
      "El directorio actual es /home/thomy/Documentos/delicious/cats\n",
      "ARCHIVO DENTRO DE /home/thomy/Documentos/delicious/cats: zophie.png\n",
      "ARCHIVO DENTRO DE /home/thomy/Documentos/delicious/cats: catnames.txt\n",
      "\n"
     ]
    }
   ],
   "source": [
    "import os\n",
    "\n",
    "for folderName, subFolders, fileNames in os.walk('/home/thomy/Documentos/delicious/'):\n",
    "    print('El directorio actual es ' + folderName)\n",
    "    \n",
    "    for subFolder in subFolders:\n",
    "        print('EL SUBDIRECTORIO DE ' + folderName + ': ' + subFolder)\n",
    "    \n",
    "    for fileName in fileNames:\n",
    "        print('ARCHIVO DENTRO DE ' + folderName + ': ' + fileName)\n",
    "        \n",
    "    print('')"
   ]
  },
  {
   "cell_type": "markdown",
   "metadata": {},
   "source": [
    "A la función `os.walk()` se le pasa un único valor cadena de caracteres correspondiente a la ruta del directorio que deseamos recorrer. Para esto, podemos usar los ciclos de repetición `for` para recorrer el árbol de directorios contenidos en éste, de manera similar al uso de la función `range()` para recorrer un rango de números. A diferencia de `range()`, la función `os.walk()`, retornará tres valores en cada iteración del ciclo:\n",
    "\n",
    "1. Una cadena correspondiente al nombre del directorio actual.\n",
    "2. Una lista de cadenas correspondientes a los directorios dentro del directorio actual.\n",
    "3. Una lista de cadenas correspondientes a los archivos dentro del directorio actual.\n"
   ]
  },
  {
   "cell_type": "markdown",
   "metadata": {},
   "source": [
    "Cuando hablo del directorio actual, hago referencia al directorio de la iteración actual del ciclo. El directorio de trabajo actual no es cambiado por `os.walk()`.\n",
    "\n",
    "De la misma manera que podemos cambiar el nombre de la variable `i` en el estamento `for i in range(10):`, podemos elegir los nombres de las variables listadas anteriormente, para este caso yo usé: `folderName`, `subFolders`, `fileNames`.\n",
    "\n",
    "Dado que `os.walk()` retorna una lista de cadenas correspondientes a las variables `subFolder` y `fileName`, podemos usar estas listas para nuestros propios ciclos `for`. Para esto, reemplazamos la función `print()` por nuestro código personalizado."
   ]
  },
  {
   "cell_type": "markdown",
   "metadata": {},
   "source": [
    "# Comprimiendo archivos con el módulo `zipfile`"
   ]
  },
  {
   "cell_type": "markdown",
   "metadata": {},
   "source": [
    "Podemos ya estar familiarizados con los archivos ZIP (archivos con la extensión *.zip*) el cual puede almacenar el contenido comprimido de muchos archivos. Comprimir un archivo, reduce su tamaño, esto es útil a la hora de enviar archivos por internet. Y, dado que un archivo ZIP también puede contener archivos y subdirectorios, es una manera práctica  y conveniente de empaquetar varios archivos en un solo. Por ejemplo, este único archivo podría adjuntarse en un e-mail."
   ]
  },
  {
   "cell_type": "markdown",
   "metadata": {},
   "source": [
    "Nuestros programas en Python pueden crear y abrir (o extraer) archivos ZIP, usando las funciones del módulo `zipfile`"
   ]
  },
  {
   "cell_type": "markdown",
   "metadata": {},
   "source": [
    "## Leyendo archivos ZIP"
   ]
  },
  {
   "cell_type": "markdown",
   "metadata": {},
   "source": [
    "Para leer el contenido de un archivo ZIP, primero debemos crear un objeto `ZipFile`. Los objetos `ZipFiles` son, conceptualmente hablando, similares a los objetos `File` retornados por la función `open()` vista previamente. Para crear un objeto `ZipFile`, se debe llamar a la función `zipfile.ZipFile()` y pasarle como argumento una cadena correspondiente al nombre de archivo del archivo *.zip*.\n",
    "Nótese que `zipfile` (en minúsculas) es el nombre del módulo de Python y `ZipFile` es el nombre de la función. Veamos el siguiente ejemplo:"
   ]
  },
  {
   "cell_type": "code",
   "execution_count": 1,
   "metadata": {},
   "outputs": [],
   "source": [
    "import zipfile, os\n",
    "\n",
    "os.chdir('/home/thomy/Documentos/')"
   ]
  },
  {
   "cell_type": "code",
   "execution_count": 5,
   "metadata": {},
   "outputs": [],
   "source": [
    "exampleZip = zipfile.ZipFile('example.zip')"
   ]
  },
  {
   "cell_type": "code",
   "execution_count": 6,
   "metadata": {},
   "outputs": [
    {
     "data": {
      "text/plain": [
       "['spam.txt', 'cats/', 'cats/catnames.txt', 'cats/zophie.jpg']"
      ]
     },
     "execution_count": 6,
     "metadata": {},
     "output_type": "execute_result"
    }
   ],
   "source": [
    "exampleZip.namelist()"
   ]
  },
  {
   "cell_type": "code",
   "execution_count": 7,
   "metadata": {},
   "outputs": [],
   "source": [
    "spamInfo = exampleZip.getinfo('spam.txt')"
   ]
  },
  {
   "cell_type": "code",
   "execution_count": 8,
   "metadata": {},
   "outputs": [
    {
     "data": {
      "text/plain": [
       "13908"
      ]
     },
     "execution_count": 8,
     "metadata": {},
     "output_type": "execute_result"
    }
   ],
   "source": [
    "spamInfo.file_size"
   ]
  },
  {
   "cell_type": "code",
   "execution_count": 9,
   "metadata": {},
   "outputs": [
    {
     "data": {
      "text/plain": [
       "3828"
      ]
     },
     "execution_count": 9,
     "metadata": {},
     "output_type": "execute_result"
    }
   ],
   "source": [
    "spamInfo.compress_size"
   ]
  },
  {
   "cell_type": "code",
   "execution_count": 11,
   "metadata": {},
   "outputs": [
    {
     "name": "stdout",
     "output_type": "stream",
     "text": [
      "El archivo comprimido es 3.63x más pequeño!\n"
     ]
    }
   ],
   "source": [
    "print('El archivo comprimido es %sx más pequeño!' %(round(spamInfo.file_size / spamInfo.compress_size, 2)))"
   ]
  },
  {
   "cell_type": "code",
   "execution_count": 12,
   "metadata": {},
   "outputs": [],
   "source": [
    "exampleZip.close()"
   ]
  },
  {
   "cell_type": "markdown",
   "metadata": {},
   "source": [
    "El objeto  `ZipFile` tiene un método `namelist()` que retorna una lista de cadenas por todos los archivos y carpetas contenidos en el archivo ZIP. Estas cadenas pueden ser pasadas al método `getinfo()` de `ZipFile`, con el objetivo de retornar un objeto `ZipInfo` relacionado con ese archivo en particular. Los objetos `ZipInfo` tienen sus propios atributos, como `file_size` y `compress_size` en bytes, los cuales almacenan valores enteros correspondientes al tamaño original y al tamaño comprimido del archivo en cuestión, respectivamente. Mientras un objeto `ZipFile` representa un archivo completo, un objeto `ZipInfo` almacena la información acerca de un único archivo dentro del archivo principal."
   ]
  },
  {
   "cell_type": "markdown",
   "metadata": {},
   "source": [
    "La línea `print('El archivo comprimido es %sx más pequeño!' %(round(spamInfo.file_size / spamInfo.compress_size, 2)))` calcula qué tan eficiente el archivo *example.zip* es comprimido, dividiendo el tamaño original del archivo entre el tamaño del archivo comprimido; imprime esta información usando el formateo de cadenas con `%s`."
   ]
  },
  {
   "cell_type": "markdown",
   "metadata": {},
   "source": [
    "## Comprimiendo archivos con el módulo `zipfile`"
   ]
  },
  {
   "cell_type": "markdown",
   "metadata": {},
   "source": [
    "El método `extractall()` para los objetos `ZipFile`, extrae todos los archivos y directorios de un archivo ZIP en el actual directorio de trabajo."
   ]
  },
  {
   "cell_type": "code",
   "execution_count": 4,
   "metadata": {},
   "outputs": [],
   "source": [
    "import zipfile, os\n",
    "\n",
    "os.getcwd()\n",
    "os.chdir('/home/thomy/Documentos/')\n",
    "os.listdir()\n",
    "\n",
    "exampleZip = zipfile.ZipFile('example.zip')\n",
    "exampleZip.extractall()\n",
    "exampleZip.close()"
   ]
  },
  {
   "cell_type": "markdown",
   "metadata": {},
   "source": [
    "Luego de correr este código, el contenido del archivo *example.zip* será extraído en el directorio `'/home/thomy/Documentos/'`. Opcionalmente, se le puede pasar un nombre de un directorio para extraer allí el contenido del archivo ZIP, en lugar del directorio de trabajo actual. Si el directorio pasado a la función `extractall()` no existe, éste será creado. Por ejemplo, si reemplazamos el llamado a `extractall()` con `exampleZip.extractall('/home/thomy/delicious')`, el código extraerá los archivos de `example.zip` en un directorio nuevo llamado `delicious`.\n",
    "\n",
    "Por otro lado, para extraer un único archivo de un archivo ZIP, podemos usar el método `extract()`. Veamos un ejemplo:\n"
   ]
  },
  {
   "cell_type": "code",
   "execution_count": 16,
   "metadata": {},
   "outputs": [
    {
     "data": {
      "text/plain": [
       "'/home/thomy/Documentos/spam.txt'"
      ]
     },
     "execution_count": 16,
     "metadata": {},
     "output_type": "execute_result"
    }
   ],
   "source": [
    "exampleZip = zipfile.ZipFile('example.zip')\n",
    "exampleZip.extract('spam.txt')"
   ]
  },
  {
   "cell_type": "code",
   "execution_count": 20,
   "metadata": {},
   "outputs": [
    {
     "data": {
      "text/plain": [
       "'/home/thomy/Documentos/DirectorioNuevo/spam.txt'"
      ]
     },
     "execution_count": 20,
     "metadata": {},
     "output_type": "execute_result"
    }
   ],
   "source": [
    "exampleZip.extract('spam.txt', '/home/thomy/Documentos/DirectorioNuevo')"
   ]
  },
  {
   "cell_type": "code",
   "execution_count": 22,
   "metadata": {},
   "outputs": [],
   "source": [
    "exampleZip.close()"
   ]
  },
  {
   "cell_type": "code",
   "execution_count": 21,
   "metadata": {},
   "outputs": [
    {
     "data": {
      "text/plain": [
       "['myData.dir',\n",
       " 'delicious_backup',\n",
       " 'bacon.txt',\n",
       " 'myData.bak',\n",
       " 'sonnet29.txt',\n",
       " 'hello.txt',\n",
       " 'myData.dat',\n",
       " 'Project.docx',\n",
       " 'proyectoQuiz',\n",
       " 'catnameds',\n",
       " 'DirectorioNuevo',\n",
       " 'spam.txt',\n",
       " 'cats',\n",
       " '__pycache__',\n",
       " 'eggs',\n",
       " 'capitales.txt',\n",
       " 'proyectoMCB',\n",
       " 'myCats.py',\n",
       " '~',\n",
       " 'example.zip',\n",
       " 'delicious']"
      ]
     },
     "execution_count": 21,
     "metadata": {},
     "output_type": "execute_result"
    }
   ],
   "source": [
    "os.getcwd()\n",
    "os.listdir()"
   ]
  },
  {
   "cell_type": "markdown",
   "metadata": {},
   "source": [
    "La cadena que le pasamos a `extract()` debe coincidir con una cadena de la lista retornada en por `namelist()`. Opcionalmente, podemos pasar un segundo argumento a `extract()` para extraer el archivo en un directorio que no sea el directorio de trabajo actual. Si el segundo argumento es un directorio que no existe todavía, Python creará este directorio. El valor que retorna `extract()` es la ruta absoluta en donde se extrajo el archvo."
   ]
  },
  {
   "cell_type": "markdown",
   "metadata": {},
   "source": [
    "## Creando y agregando archivos al archivo ZIP"
   ]
  },
  {
   "cell_type": "markdown",
   "metadata": {},
   "source": [
    "Cuando le pasamos una ruta al método `write()` del objeto `ZipFile`, Python comprimira y agregara  el archivo en un archivo ZIP en la ruta especificada. El primer  argumento del método `write()` es una cadena con el nombre del archivo a agregar al archivo ZIP. El segundo argumento es el tipo de parámetro de compresión, el cual le dice al computador cuál algoritmo utilizar para comprimir archivos. Podemos usar siempre el parámetro `zipfile.ZIP_DEFLATED` (Este especifica el el algoritmo de compresión *deflate* el cual trabaja bien para todo tipo de datos)."
   ]
  },
  {
   "cell_type": "code",
   "execution_count": 1,
   "metadata": {},
   "outputs": [
    {
     "data": {
      "text/plain": [
       "'/home/thomy/Google Drive/ITM/Materias/CursoPythonEgresados/JupiterNotebooks/Proyectos/JupyterNotebooks'"
      ]
     },
     "execution_count": 1,
     "metadata": {},
     "output_type": "execute_result"
    }
   ],
   "source": [
    "import os\n",
    "os.getcwd()"
   ]
  },
  {
   "cell_type": "code",
   "execution_count": 3,
   "metadata": {},
   "outputs": [
    {
     "data": {
      "text/plain": [
       "['myData.dir',\n",
       " 'delicious_backup',\n",
       " 'bacon.txt',\n",
       " 'myData.bak',\n",
       " 'sonnet29.txt',\n",
       " 'hello.txt',\n",
       " 'myData.dat',\n",
       " 'Project.docx',\n",
       " 'proyectoQuiz',\n",
       " 'catnameds',\n",
       " 'DirectorioNuevo',\n",
       " 'spam.txt',\n",
       " 'cats',\n",
       " '__pycache__',\n",
       " 'eggs',\n",
       " 'capitales.txt',\n",
       " 'proyectoMCB',\n",
       " 'myCats.py',\n",
       " '~',\n",
       " 'example.zip',\n",
       " 'delicious']"
      ]
     },
     "execution_count": 3,
     "metadata": {},
     "output_type": "execute_result"
    }
   ],
   "source": [
    "os.chdir('/home/thomy/Documentos/')\n",
    "os.listdir()"
   ]
  },
  {
   "cell_type": "code",
   "execution_count": 4,
   "metadata": {},
   "outputs": [],
   "source": [
    "import zipfile\n",
    "\n",
    "newZip = zipfile.ZipFile('new.zip', 'w')\n",
    "newZip.write('spam.txt', compress_type=zipfile.ZIP_DEFLATED)\n",
    "newZip.close()"
   ]
  },
  {
   "cell_type": "code",
   "execution_count": 5,
   "metadata": {},
   "outputs": [
    {
     "data": {
      "text/plain": [
       "['myData.dir',\n",
       " 'delicious_backup',\n",
       " 'bacon.txt',\n",
       " 'myData.bak',\n",
       " 'sonnet29.txt',\n",
       " 'hello.txt',\n",
       " 'myData.dat',\n",
       " 'Project.docx',\n",
       " 'proyectoQuiz',\n",
       " 'catnameds',\n",
       " 'DirectorioNuevo',\n",
       " 'spam.txt',\n",
       " 'cats',\n",
       " '__pycache__',\n",
       " 'new.zip',\n",
       " 'eggs',\n",
       " 'capitales.txt',\n",
       " 'proyectoMCB',\n",
       " 'myCats.py',\n",
       " '~',\n",
       " 'example.zip',\n",
       " 'delicious']"
      ]
     },
     "execution_count": 5,
     "metadata": {},
     "output_type": "execute_result"
    }
   ],
   "source": [
    "os.listdir()"
   ]
  },
  {
   "cell_type": "markdown",
   "metadata": {},
   "source": [
    "Este código creará un nuevo archivo ZIP llamado *new.zip* que contendrá el contenido comprimido de `spam.txt`.\n",
    "Finalmente, recordemos que tal y como trabajamos con archivos, cuando escribimos en un archivos, usando el modo escritura, este borrará todo el contenido del archivo ZIP. Pasarle `'a'` como segundo argumento a ` zipfile.ZipFile()` para abrir el ZIP file, abrirá el archivo ZIP en modo *append*."
   ]
  },
  {
   "cell_type": "code",
   "execution_count": null,
   "metadata": {},
   "outputs": [],
   "source": []
  }
 ],
 "metadata": {
  "kernelspec": {
   "display_name": "Python 3",
   "language": "python",
   "name": "python3"
  },
  "language_info": {
   "codemirror_mode": {
    "name": "ipython",
    "version": 3
   },
   "file_extension": ".py",
   "mimetype": "text/x-python",
   "name": "python",
   "nbconvert_exporter": "python",
   "pygments_lexer": "ipython3",
   "version": "3.7.4"
  },
  "toc": {
   "base_numbering": 1,
   "nav_menu": {},
   "number_sections": true,
   "sideBar": true,
   "skip_h1_title": false,
   "title_cell": "Table of Contents",
   "title_sidebar": "Contents",
   "toc_cell": true,
   "toc_position": {},
   "toc_section_display": true,
   "toc_window_display": true
  }
 },
 "nbformat": 4,
 "nbformat_minor": 2
}

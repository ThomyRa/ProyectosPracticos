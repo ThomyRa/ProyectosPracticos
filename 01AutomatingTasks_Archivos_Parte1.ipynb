{
 "cells": [
  {
   "cell_type": "markdown",
   "metadata": {
    "toc": true
   },
   "source": [
    "<h1>Tabla de contenidos<span class=\"tocSkip\"></span></h1>\n",
    "<div class=\"toc\"><ul class=\"toc-item\"><li><span><a href=\"#Introducción\" data-toc-modified-id=\"Introducción-1\"><span class=\"toc-item-num\">1&nbsp;&nbsp;</span>Introducción</a></span></li><li><span><a href=\"#Manejo-de-archivos\" data-toc-modified-id=\"Manejo-de-archivos-2\"><span class=\"toc-item-num\">2&nbsp;&nbsp;</span>Manejo de archivos</a></span><ul class=\"toc-item\"><li><span><a href=\"#Archivos-y-ruta-de-archivos\" data-toc-modified-id=\"Archivos-y-ruta-de-archivos-2.1\"><span class=\"toc-item-num\">2.1&nbsp;&nbsp;</span>Archivos y ruta de archivos</a></span></li><li><span><a href=\"#Backslash-en-Windows-y-slash-en-Linux\" data-toc-modified-id=\"Backslash-en-Windows-y-slash-en-Linux-2.2\"><span class=\"toc-item-num\">2.2&nbsp;&nbsp;</span><em>Backslash</em> en Windows y <em>slash</em> en Linux</a></span></li><li><span><a href=\"#El-directorio-de-trabajo-actual\" data-toc-modified-id=\"El-directorio-de-trabajo-actual-2.3\"><span class=\"toc-item-num\">2.3&nbsp;&nbsp;</span>El directorio de trabajo actual</a></span></li><li><span><a href=\"#Rutas-absolutas-vs-rutas-relativas\" data-toc-modified-id=\"Rutas-absolutas-vs-rutas-relativas-2.4\"><span class=\"toc-item-num\">2.4&nbsp;&nbsp;</span>Rutas absolutas vs rutas relativas</a></span></li><li><span><a href=\"#Creando-directorios-nuevos-con-os.makedirs()\" data-toc-modified-id=\"Creando-directorios-nuevos-con-os.makedirs()-2.5\"><span class=\"toc-item-num\">2.5&nbsp;&nbsp;</span>Creando directorios nuevos con <code>os.makedirs()</code></a></span></li></ul></li><li><span><a href=\"#El-módulo-os.path()\" data-toc-modified-id=\"El-módulo-os.path()-3\"><span class=\"toc-item-num\">3&nbsp;&nbsp;</span>El módulo <code>os.path()</code></a></span><ul class=\"toc-item\"><li><span><a href=\"#Manejando-rutas-absolutas-y-rutas-relativas\" data-toc-modified-id=\"Manejando-rutas-absolutas-y-rutas-relativas-3.1\"><span class=\"toc-item-num\">3.1&nbsp;&nbsp;</span>Manejando rutas absolutas y rutas relativas</a></span></li><li><span><a href=\"#Encontrando-tamaños-de-archivo-y-el-contenido-de-los-directorios\" data-toc-modified-id=\"Encontrando-tamaños-de-archivo-y-el-contenido-de-los-directorios-3.2\"><span class=\"toc-item-num\">3.2&nbsp;&nbsp;</span>Encontrando tamaños de archivo y el contenido de los directorios</a></span></li><li><span><a href=\"#Verificando-la-validez-de-la-ruta\" data-toc-modified-id=\"Verificando-la-validez-de-la-ruta-3.3\"><span class=\"toc-item-num\">3.3&nbsp;&nbsp;</span>Verificando la validez de la ruta</a></span></li></ul></li><li><span><a href=\"#El-proceso-de-lectura/escritura-de-archivos\" data-toc-modified-id=\"El-proceso-de-lectura/escritura-de-archivos-4\"><span class=\"toc-item-num\">4&nbsp;&nbsp;</span>El proceso de lectura/escritura de archivos</a></span><ul class=\"toc-item\"><li><span><a href=\"#Abriendo-archivos-con-la-función-open()\" data-toc-modified-id=\"Abriendo-archivos-con-la-función-open()-4.1\"><span class=\"toc-item-num\">4.1&nbsp;&nbsp;</span>Abriendo archivos con la función <code>open()</code></a></span></li><li><span><a href=\"#Leyendo-el-contenido-de-los-archivos\" data-toc-modified-id=\"Leyendo-el-contenido-de-los-archivos-4.2\"><span class=\"toc-item-num\">4.2&nbsp;&nbsp;</span>Leyendo el contenido de los archivos</a></span></li><li><span><a href=\"#Escribiendo-archivos\" data-toc-modified-id=\"Escribiendo-archivos-4.3\"><span class=\"toc-item-num\">4.3&nbsp;&nbsp;</span>Escribiendo archivos</a></span></li></ul></li><li><span><a href=\"#Guardando-variables-con-el-método-shelve\" data-toc-modified-id=\"Guardando-variables-con-el-método-shelve-5\"><span class=\"toc-item-num\">5&nbsp;&nbsp;</span>Guardando variables con el método <code>shelve</code></a></span></li><li><span><a href=\"#Guardando-variables-con-la-función-pprint.pformat()\" data-toc-modified-id=\"Guardando-variables-con-la-función-pprint.pformat()-6\"><span class=\"toc-item-num\">6&nbsp;&nbsp;</span>Guardando variables con la función <code>pprint.pformat()</code></a></span></li><li><span><a href=\"#Proyecto:-Generando-archivos-aleatorios-para-evaluaciones\" data-toc-modified-id=\"Proyecto:-Generando-archivos-aleatorios-para-evaluaciones-7\"><span class=\"toc-item-num\">7&nbsp;&nbsp;</span>Proyecto: Generando archivos aleatorios para evaluaciones</a></span><ul class=\"toc-item\"><li><span><a href=\"#Paso1:-Almacenar-los-datos-del-quiz-en-un-diccionario\" data-toc-modified-id=\"Paso1:-Almacenar-los-datos-del-quiz-en-un-diccionario-7.1\"><span class=\"toc-item-num\">7.1&nbsp;&nbsp;</span>Paso1: Almacenar los datos del quiz en un diccionario</a></span></li><li><span><a href=\"#Paso-2:-Crear-el-archivo-del-quiz-y-ordenar-aleatoriamente-las-preguntas\" data-toc-modified-id=\"Paso-2:-Crear-el-archivo-del-quiz-y-ordenar-aleatoriamente-las-preguntas-7.2\"><span class=\"toc-item-num\">7.2&nbsp;&nbsp;</span>Paso 2: Crear el archivo del quiz y ordenar aleatoriamente las preguntas</a></span></li><li><span><a href=\"#Paso-3:-Crear-las-opciones-de-respuesta\" data-toc-modified-id=\"Paso-3:-Crear-las-opciones-de-respuesta-7.3\"><span class=\"toc-item-num\">7.3&nbsp;&nbsp;</span>Paso 3: Crear las opciones de respuesta</a></span></li><li><span><a href=\"#Paso-4:-Escribir-el-contenido-de-los-archivos-del-quiz-y-el-archivo-de-respuestas\" data-toc-modified-id=\"Paso-4:-Escribir-el-contenido-de-los-archivos-del-quiz-y-el-archivo-de-respuestas-7.4\"><span class=\"toc-item-num\">7.4&nbsp;&nbsp;</span>Paso 4: Escribir el contenido de los archivos del quiz y el archivo de respuestas</a></span></li></ul></li><li><span><a href=\"#Proyecto:-Multiclipboard\" data-toc-modified-id=\"Proyecto:-Multiclipboard-8\"><span class=\"toc-item-num\">8&nbsp;&nbsp;</span>Proyecto: Multiclipboard</a></span><ul class=\"toc-item\"><li><span><a href=\"#Paso-1:-Comentarios-y-configuración-del-shelf\" data-toc-modified-id=\"Paso-1:-Comentarios-y-configuración-del-shelf-8.1\"><span class=\"toc-item-num\">8.1&nbsp;&nbsp;</span>Paso 1: Comentarios y configuración del shelf</a></span></li><li><span><a href=\"#Paso-2:-Guardar-el-contenido-del-portapapeles-con-una-palabra-clave\" data-toc-modified-id=\"Paso-2:-Guardar-el-contenido-del-portapapeles-con-una-palabra-clave-8.2\"><span class=\"toc-item-num\">8.2&nbsp;&nbsp;</span>Paso 2: Guardar el contenido del portapapeles con una palabra clave</a></span></li><li><span><a href=\"#Paso-3:-Listar-las-palabras-clave-y-cargar-el-contenido-de-la-palabra-clave\" data-toc-modified-id=\"Paso-3:-Listar-las-palabras-clave-y-cargar-el-contenido-de-la-palabra-clave-8.3\"><span class=\"toc-item-num\">8.3&nbsp;&nbsp;</span>Paso 3: Listar las palabras clave y cargar el contenido de la palabra clave</a></span></li></ul></li></ul></div>"
   ]
  },
  {
   "cell_type": "markdown",
   "metadata": {},
   "source": [
    "# Introducción"
   ]
  },
  {
   "cell_type": "markdown",
   "metadata": {},
   "source": [
    "Las variables son una buena forma de almacenar datos mientras nuestros programas están corriendo, pero si deseamos que nuestros datos perduren incluso después de que termine la ejecución del programa, necesitamos guardarlos  en un archivo. Podemos pensar en el contenido de un archivo como un único valor tipo cadena de caracteres potencialmente con tamaño en gigabytes. En este capítulo aprenderemos a usar python para crear, leer y guardar archivos en el disco duro."
   ]
  },
  {
   "cell_type": "markdown",
   "metadata": {},
   "source": [
    "# Manejo de archivos"
   ]
  },
  {
   "cell_type": "markdown",
   "metadata": {},
   "source": [
    "## Archivos y ruta de archivos"
   ]
  },
  {
   "cell_type": "markdown",
   "metadata": {},
   "source": [
    "Un archivo tiene dos propiedades clave: un *filename* (usualmente escrito en un palabra) y un *path*. El path o ruta, especifica la ubicación de un archivo en el computador. Por ejemplo, en mi portatil tengo un archivo con filename `project.docx` con path `/home/thomy/Documentos`. En Windows ese mismo archivo luciría así: `C:\\Users\\thomy\\Documentos\\Project.docx`.\n",
    "\n",
    "La parte del filename después del punto se conoce como extensión y nos dice el tipo de archivo. `project.docx` es un documento de MS Word. Por otro lado, `home`, `thomy` y `Documentos` hacen referencia a *folders* o directorios. Los directorios pueden contener archivos y/o otros directorios. Por ejemplo, `projects.docx` se encuentra dentro del directorio `Documentos`, éste a su vez se encuentra dentro del directorio `thomy`, quien a su vez se encuentra en el directorio `home`. \n",
    "\n",
    "La parte `C:\\` del path se le conoce como el *directorio raíz* o *root folder*. En windows, el directorio raíz es también llamado *C:\\ drive*. En Linux el directorio raíz es `/`. Otros puertos como el USB u otras unidades como el DVD, aparecen en Windows con nuevas letras de directorios raíz como `D:\\` o `E:\\`. En Linux aparecen en nuevas directorios como `/mnt` (*mount*). Así mismo, en Sistemas Operativos (SO) Unix/Linux, los nombres son sensibles a mayúsculas y minúsculas."
   ]
  },
  {
   "cell_type": "markdown",
   "metadata": {},
   "source": [
    "## *Backslash* en Windows y *slash* en Linux"
   ]
  },
  {
   "cell_type": "markdown",
   "metadata": {},
   "source": [
    "En windows, las rutas son escritas usando backslash (`\\`) para separar los nombres de los directorios. En SO Unix/Linux,  sin embargo, se usa el slash (`/`). Si deseamos que nuestros programas funcionen en cualquier SO, debemos escribir nuestros scripts en Python con la capacidad de manejar ambos casos.\n",
    "Afortunadamente, esto es fácil de implementar con la función `os.path.join()`. Si pasamos el valor string de los nombres de los diferentes directorios y los archivos individuales en nuestra ruta, `os.path.join()` retornará una cadena con el separador adecuado. Veamos el siguiente ejemplo:"
   ]
  },
  {
   "cell_type": "code",
   "execution_count": 2,
   "metadata": {},
   "outputs": [
    {
     "data": {
      "text/plain": [
       "'home/thomy/Documents'"
      ]
     },
     "execution_count": 2,
     "metadata": {},
     "output_type": "execute_result"
    }
   ],
   "source": [
    "import os\n",
    "os.path.join('home', 'thomy', 'Documents')"
   ]
  },
  {
   "cell_type": "markdown",
   "metadata": {},
   "source": [
    "En Windows `os.path.join()` retornará `usr\\\\bin\\\\spam`. Nótese que los backslashes son dobles porque cada uno necesita el caracter de escape.\n",
    "\n",
    "La función `os.path.join()` es útil cuando deseamos crear cadenas para nombres de archivos. Estas cadenas serán pasadas a varias de las funciones que veremos en este módulo. Por ejemplo, el siguiente ejemplo une los nombres de una lista de filenames al final del nombre del directorio."
   ]
  },
  {
   "cell_type": "code",
   "execution_count": 3,
   "metadata": {},
   "outputs": [
    {
     "name": "stdout",
     "output_type": "stream",
     "text": [
      "C:\\Users\\thomy\\Docuementos/accounts.txt\n",
      "C:\\Users\\thomy\\Docuementos/details.csv\n",
      "C:\\Users\\thomy\\Docuementos/invite.docx\n"
     ]
    }
   ],
   "source": [
    "myFiles = ['accounts.txt', 'details.csv', 'invite.docx']\n",
    "\n",
    "for filename in myFiles:\n",
    "    print(os.path.join('C:\\\\Users\\\\thomy\\\\Docuementos', filename))"
   ]
  },
  {
   "cell_type": "markdown",
   "metadata": {},
   "source": [
    "## El directorio de trabajo actual"
   ]
  },
  {
   "cell_type": "markdown",
   "metadata": {},
   "source": [
    "Cada programa que corre en nuestro computador tiene un *directorio de trabajo actual* o *cwd* (en inglés Current Working Directory). Cualquier nombre de archivo o ruta que no empiece con el directorio raíz, se asume que se encuentra el directorio de trabajo actual. Podemos obtener el directorio de trabajo actual como cadena de caracteres mediante la función `os.getcwd()` y la podemos cambiar con la función `os.chdir()`. Veamos el siguiente ejemplo."
   ]
  },
  {
   "cell_type": "code",
   "execution_count": 8,
   "metadata": {},
   "outputs": [
    {
     "data": {
      "text/plain": [
       "'/home/thomy/Google Drive/ITM/Materias/CursoPythonEgresados/JupiterNotebooks/Proyectos/JupyterNotebooks'"
      ]
     },
     "execution_count": 8,
     "metadata": {},
     "output_type": "execute_result"
    }
   ],
   "source": [
    "import os\n",
    "os.getcwd()"
   ]
  },
  {
   "cell_type": "code",
   "execution_count": 10,
   "metadata": {},
   "outputs": [
    {
     "data": {
      "text/plain": [
       "'/home/thomy/Documents'"
      ]
     },
     "execution_count": 10,
     "metadata": {},
     "output_type": "execute_result"
    }
   ],
   "source": [
    "os.chdir('/home/thomy/Documents/')\n",
    "os.getcwd()"
   ]
  },
  {
   "cell_type": "markdown",
   "metadata": {},
   "source": [
    "En el ejemplo pasado, el directorio de trabajo actual estaba ubicado en `'/home/thomy/Google Drive/ITM/Materias/CursoPythonEgresados/JupiterNotebooks/Proyectos/JupyterNotebooks'\n",
    "`. Finalmente, lo cambiamos al directorio `'/home/thomy/Documents'`. Python mostrará un error si cambiamos el directorio a una ubicación inexistente: "
   ]
  },
  {
   "cell_type": "code",
   "execution_count": 11,
   "metadata": {},
   "outputs": [
    {
     "ename": "FileNotFoundError",
     "evalue": "[Errno 2] No such file or directory: 'C:\\\\EsteDiretorioNoExiste'",
     "output_type": "error",
     "traceback": [
      "\u001b[0;31m---------------------------------------------------------------------------\u001b[0m",
      "\u001b[0;31mFileNotFoundError\u001b[0m                         Traceback (most recent call last)",
      "\u001b[0;32m<ipython-input-11-2bbf3567ef2d>\u001b[0m in \u001b[0;36m<module>\u001b[0;34m\u001b[0m\n\u001b[0;32m----> 1\u001b[0;31m \u001b[0mos\u001b[0m\u001b[0;34m.\u001b[0m\u001b[0mchdir\u001b[0m\u001b[0;34m(\u001b[0m\u001b[0;34m'C:\\\\EsteDiretorioNoExiste'\u001b[0m\u001b[0;34m)\u001b[0m\u001b[0;34m\u001b[0m\u001b[0;34m\u001b[0m\u001b[0m\n\u001b[0m",
      "\u001b[0;31mFileNotFoundError\u001b[0m: [Errno 2] No such file or directory: 'C:\\\\EsteDiretorioNoExiste'"
     ]
    }
   ],
   "source": [
    "os.chdir('C:\\\\EsteDiretorioNoExiste')"
   ]
  },
  {
   "cell_type": "markdown",
   "metadata": {},
   "source": [
    "## Rutas absolutas vs rutas relativas"
   ]
  },
  {
   "cell_type": "markdown",
   "metadata": {},
   "source": [
    "Existen dos maneras de especificar una ruta de un archivo:\n",
    "\n",
    "+ La ruta absoluta, la cual siempre empieza con un directorio raíz.\n",
    "+ La ruta relativa, la cual hace referencia al directorio de trabajo actual.\n",
    "\n",
    "Adicionalmente, existen los directorios *dot* `.` y *dot-dot* `..`. No son directorios reales, son nombres especiales que pueden ser usados en las rutas. Un único punto como nombre de directorio es un atajo para “este directorio”. Dos puntos seguidos hacen referencia al directorio madre o directorio principal que lo contiene.\n",
    "\n",
    "La siguiente figura muestra algunos directorios y archivos cuando el directorio actual es fijado en `C:\\bacon`. Se puede apreciar la ruta absoluta y la ruta relativa para cada archivo y directorio.\n"
   ]
  },
  {
   "cell_type": "markdown",
   "metadata": {},
   "source": [
    "<img src=\"https://i.imgur.com/qtcdER5.jpg\" width=\"600\">"
   ]
  },
  {
   "cell_type": "markdown",
   "metadata": {},
   "source": [
    "El `.\\` al principio de la ruta relativa es opcional. Por ejemplo, `.\\spam.txt` y `spam.txt` hacen referencia al mismo archivo."
   ]
  },
  {
   "cell_type": "markdown",
   "metadata": {},
   "source": [
    "## Creando directorios nuevos con `os.makedirs()`"
   ]
  },
  {
   "cell_type": "markdown",
   "metadata": {},
   "source": [
    "Nuestros programas pueden crear nuevos directorios gracias a la función `os.makedirs()`. Veamos cómo funciona."
   ]
  },
  {
   "cell_type": "code",
   "execution_count": 9,
   "metadata": {},
   "outputs": [],
   "source": [
    "# Windows\n",
    "import os\n",
    "os.makedirs('C:\\\\delicious\\\\walnut\\\\waffles')"
   ]
  },
  {
   "cell_type": "code",
   "execution_count": 7,
   "metadata": {},
   "outputs": [],
   "source": [
    "# Linux\n",
    "import os\n",
    "os.makedirs('/home/thomy/delicious/walnut/waffles')"
   ]
  },
  {
   "cell_type": "code",
   "execution_count": 10,
   "metadata": {},
   "outputs": [
    {
     "data": {
      "text/plain": [
       "'/home/thomy/delicious/walnut/waffles'"
      ]
     },
     "execution_count": 10,
     "metadata": {},
     "output_type": "execute_result"
    }
   ],
   "source": [
    "os.chdir('/home/thomy/delicious/walnut/waffles')\n",
    "os.getcwd()"
   ]
  },
  {
   "cell_type": "markdown",
   "metadata": {},
   "source": [
    "Las anteriores instrucciones crearon no sólo el directorio `C:\\Delicious` sino también el folder `walnut` dentro de este. De la misma manera creó el directorio `waffles` dentro de `C:\\delicious\\walnut\\`. De esta manera, `os.makedirs()` se asegura de crear todos los directorios intermedios para que la ruta completa exista."
   ]
  },
  {
   "cell_type": "markdown",
   "metadata": {},
   "source": [
    "<img src=\"https://i.imgur.com/YPq7Jxd.jpg\" width=\"200\">"
   ]
  },
  {
   "cell_type": "markdown",
   "metadata": {},
   "source": [
    "# El módulo `os.path()`"
   ]
  },
  {
   "cell_type": "markdown",
   "metadata": {},
   "source": [
    "El módulo `os.path` contiene muchas funciones útiles relacionadas con los nombres de archivos y sus rutas. Por ejemplo ya hemos usado `os.path.join()` para construir rutas de forma tal que trabajen en diferentes sistemas operativos. Como `os.path` es un módulo dentro del módulo `os`, lo podemos importar simplemente corriendo `import os`. Podemos volver a esta unidad cada vez que nuestros programas precisen trabajar con archivos, nombres de archivos o rutas. La documentación completa para el módulo `os.path` se puede encontrar en http://docs.python.org/3/library/os.path.html."
   ]
  },
  {
   "cell_type": "markdown",
   "metadata": {},
   "source": [
    "## Manejando rutas absolutas y rutas relativas"
   ]
  },
  {
   "cell_type": "markdown",
   "metadata": {},
   "source": [
    "El módulo `os.path` suministra funciones para retornar la ruta absoluta de rutas relativas, y para verificar que una ruta dada es absoluta.\n",
    "\n",
    "+ Llamar `os.path.abspath(ruta)` retornará una cadena con la ruta absoluta de su argumento. Esta es una manera fácil de convertir una ruta relativa en una absoluta.\n",
    "+ Llamar `os.path.isabs(ruta)` retornará `True` si el argumento es una ruta absoluta, de lo contrario, retornará `False`.\n",
    "+ Llamar `os.path.relpath(ruta, inicio)` retornará una cadena correspondiente a la ruta relativa desde el *inicio* hasta *ruta*. Si *inicio* no es suministrado, el directorio de trabajo actual es usado como *inicio*. Veamos algunos ejemplos:\n"
   ]
  },
  {
   "cell_type": "code",
   "execution_count": 16,
   "metadata": {},
   "outputs": [
    {
     "data": {
      "text/plain": [
       "'/home/thomy/anaconda3/bin'"
      ]
     },
     "execution_count": 16,
     "metadata": {},
     "output_type": "execute_result"
    }
   ],
   "source": [
    "os.path.abspath('.')"
   ]
  },
  {
   "cell_type": "code",
   "execution_count": 18,
   "metadata": {},
   "outputs": [
    {
     "data": {
      "text/plain": [
       "'/home/thomy/projects'"
      ]
     },
     "execution_count": 18,
     "metadata": {},
     "output_type": "execute_result"
    }
   ],
   "source": [
    "os.chdir('/home/thomy/')\n",
    "os.path.abspath('./projects')"
   ]
  },
  {
   "cell_type": "code",
   "execution_count": 19,
   "metadata": {},
   "outputs": [
    {
     "data": {
      "text/plain": [
       "False"
      ]
     },
     "execution_count": 19,
     "metadata": {},
     "output_type": "execute_result"
    }
   ],
   "source": [
    "os.path.isabs('.')"
   ]
  },
  {
   "cell_type": "code",
   "execution_count": 21,
   "metadata": {},
   "outputs": [
    {
     "data": {
      "text/plain": [
       "True"
      ]
     },
     "execution_count": 21,
     "metadata": {},
     "output_type": "execute_result"
    }
   ],
   "source": [
    "os.path.isabs(os.path.abspath('.'))"
   ]
  },
  {
   "cell_type": "markdown",
   "metadata": {},
   "source": [
    "**Nota: Dado que sus computadores tienen archivos y carpetas diferentes al mío, en ocasiones no serán capaces de reproducir los resultados de los ejemplos aquí mostrados. No obstante, le sugiero realicen los ejemplos con sus propios directorios y archivos. **"
   ]
  },
  {
   "cell_type": "markdown",
   "metadata": {},
   "source": [
    "Ingresamos la siguiente llamada a `os.path.relpath()` en el shell interactivo."
   ]
  },
  {
   "cell_type": "code",
   "execution_count": null,
   "metadata": {},
   "outputs": [],
   "source": [
    "os.path.relpath('C:\\\\Windows', 'C:\\\\')"
   ]
  },
  {
   "cell_type": "code",
   "execution_count": 24,
   "metadata": {},
   "outputs": [
    {
     "data": {
      "text/plain": [
       "'thomy/delicious/walnut/waffles'"
      ]
     },
     "execution_count": 24,
     "metadata": {},
     "output_type": "execute_result"
    }
   ],
   "source": [
    "os.path.relpath('/home/thomy/delicious/walnut/waffles', '/home')"
   ]
  },
  {
   "cell_type": "code",
   "execution_count": 25,
   "metadata": {},
   "outputs": [
    {
     "data": {
      "text/plain": [
       "'../../..'"
      ]
     },
     "execution_count": 25,
     "metadata": {},
     "output_type": "execute_result"
    }
   ],
   "source": [
    "os.path.relpath('/home/thomy/', '/home/thomy/delicious/walnut/waffles')"
   ]
  },
  {
   "cell_type": "markdown",
   "metadata": {},
   "source": [
    "Llamar `os.path.dirname(ruta)` retornará una cadena de cacarteres con todos los directorio que hay antes del último slash en la ruta del argumento. Llamar `os.path.basename(ruta)` retornará una cadena de caracteres todo aquello que está después del último slash de la ruta del argumento."
   ]
  },
  {
   "cell_type": "markdown",
   "metadata": {},
   "source": [
    "<img src=\"https://i.imgur.com/KUDdnjS.png\" width=\"350\">"
   ]
  },
  {
   "cell_type": "code",
   "execution_count": null,
   "metadata": {},
   "outputs": [],
   "source": [
    "# Windows\n",
    "path = 'C:\\\\Windows\\\\System32\\\\calc.exe'\n",
    "\n",
    "os.path.dirname(path)"
   ]
  },
  {
   "cell_type": "code",
   "execution_count": null,
   "metadata": {},
   "outputs": [],
   "source": [
    "# Windows\n",
    "os.path.basename(path)"
   ]
  },
  {
   "cell_type": "code",
   "execution_count": 30,
   "metadata": {},
   "outputs": [
    {
     "data": {
      "text/plain": [
       "'/usr/bin'"
      ]
     },
     "execution_count": 30,
     "metadata": {},
     "output_type": "execute_result"
    }
   ],
   "source": [
    "# Linux\n",
    "path = '/usr/bin/kate'\n",
    "os.path.dirname(path)"
   ]
  },
  {
   "cell_type": "code",
   "execution_count": 31,
   "metadata": {},
   "outputs": [
    {
     "data": {
      "text/plain": [
       "'kate'"
      ]
     },
     "execution_count": 31,
     "metadata": {},
     "output_type": "execute_result"
    }
   ],
   "source": [
    "# Linux\n",
    "os.path.basename(path)"
   ]
  },
  {
   "cell_type": "markdown",
   "metadata": {},
   "source": [
    "Si necesitamos el *dir name* y el *base name* de la ruta establecida como argumento simultáneamente, podemos llamar `os.path.split()` para obtener una tupla con estas dos cadenas."
   ]
  },
  {
   "cell_type": "code",
   "execution_count": null,
   "metadata": {},
   "outputs": [],
   "source": [
    "# Windows\n",
    "rutaCalculadora = 'C:\\\\Windows\\\\System32\\\\calc.exe'\n",
    "os.path.split(rutaCalculadora)"
   ]
  },
  {
   "cell_type": "code",
   "execution_count": 33,
   "metadata": {},
   "outputs": [
    {
     "data": {
      "text/plain": [
       "('/usr/bin', 'kate')"
      ]
     },
     "execution_count": 33,
     "metadata": {},
     "output_type": "execute_result"
    }
   ],
   "source": [
    "# Linux\n",
    "rutaKate = '/usr/bin/kate'\n",
    "os.path.split(rutaKate)"
   ]
  },
  {
   "cell_type": "markdown",
   "metadata": {},
   "source": [
    "Nótese que pudimos haber obtenido la misma tupla si llamamos `os.path.dirname()` y `os.path.basename()` colocando sus valores de retorno en una tupla:"
   ]
  },
  {
   "cell_type": "code",
   "execution_count": null,
   "metadata": {},
   "outputs": [],
   "source": [
    "# Windows\n",
    "rutaCalculadora = 'C:\\\\Windows\\\\System32\\\\calc.exe'\n",
    "(os.path.dirname(rutaCalculadora), os.path.dirname(rutaCalculadora))"
   ]
  },
  {
   "cell_type": "code",
   "execution_count": 36,
   "metadata": {},
   "outputs": [
    {
     "data": {
      "text/plain": [
       "('/usr/bin', 'kate')"
      ]
     },
     "execution_count": 36,
     "metadata": {},
     "output_type": "execute_result"
    }
   ],
   "source": [
    "# Linux\n",
    "rutaKate = '/usr/bin/kate'\n",
    "(os.path.dirname(rutaKate), os.path.basename(rutaKate))"
   ]
  },
  {
   "cell_type": "markdown",
   "metadata": {},
   "source": [
    "`os.path.split()` es un buen atajo si necesitamos ambos valores. Adicionalmente, nótese que `os.path.split()` toma una ruta de archivo y NO devuelve una lista de cadenas correspondientes a cada directorio de tal ruta. Par tal propósito, debemos usar el método de las cadenas `split()` sobre `os.sep`. Recordemos que la variable `os.sep` es definida por el separador de directorios de acuerdo al sistema operativo que corre el programa."
   ]
  },
  {
   "cell_type": "code",
   "execution_count": null,
   "metadata": {},
   "outputs": [],
   "source": [
    "# Windows\n",
    "rutaCalculadora.split(os.path.sep)"
   ]
  },
  {
   "cell_type": "code",
   "execution_count": 37,
   "metadata": {},
   "outputs": [
    {
     "data": {
      "text/plain": [
       "['', 'usr', 'bin', 'kate']"
      ]
     },
     "execution_count": 37,
     "metadata": {},
     "output_type": "execute_result"
    }
   ],
   "source": [
    "# Linux\n",
    "rutaKate.split(os.path.sep)"
   ]
  },
  {
   "cell_type": "markdown",
   "metadata": {},
   "source": [
    "El método para las cadena `split()` funcionará para cualquier sistema operativo si le pasamos como argumento `os.path.sep`."
   ]
  },
  {
   "cell_type": "markdown",
   "metadata": {},
   "source": [
    "## Encontrando tamaños de archivo y el contenido de los directorios"
   ]
  },
  {
   "cell_type": "markdown",
   "metadata": {},
   "source": [
    "Una vez tenemos las herramientas para manipular las rutas de los archivos, podemos empezar a recoger información sobre archivos y directorios específicos. El módulo `os.path` suministra funciones para encontrar el tamaño de un archivo en bytes y los archivos contenidos en un directorio dado.\n",
    "\n",
    "+ Llamar `os.path.getsize(ruta)` retornará el tamaño en bytes del archivo establecido en la ruta.\n",
    "+ Llamar `os.listdir(path)` retornará una lista de cadenas de caracteres correspondientes al nombre de cada uno de los archivos de la ruta establecida como argumento . Nótese que este método se encuentra en el módulo `os` y no en `os.path`\n",
    "\n",
    "Esto es lo que obtenemos cuando probamos estas funciones:\n"
   ]
  },
  {
   "cell_type": "code",
   "execution_count": null,
   "metadata": {},
   "outputs": [],
   "source": [
    "# Windows\n",
    "os.path.getsize('C:\\\\Windows\\\\System32\\\\calc.exe')"
   ]
  },
  {
   "cell_type": "code",
   "execution_count": 38,
   "metadata": {},
   "outputs": [
    {
     "data": {
      "text/plain": [
       "836984"
      ]
     },
     "execution_count": 38,
     "metadata": {},
     "output_type": "execute_result"
    }
   ],
   "source": [
    "# Linux\n",
    "os.path.getsize('/usr/bin/kate')"
   ]
  },
  {
   "cell_type": "code",
   "execution_count": null,
   "metadata": {},
   "outputs": [],
   "source": [
    "# Windows\n",
    "os.listdir('C:\\\\Windows\\\\System32')"
   ]
  },
  {
   "cell_type": "code",
   "execution_count": 39,
   "metadata": {},
   "outputs": [
    {
     "data": {
      "text/plain": [
       "['globaltime',\n",
       " 'cut',\n",
       " 'gpg-agent',\n",
       " 'ppmqvga',\n",
       " 'parec',\n",
       " 'makeglossaries',\n",
       " 'mmcli',\n",
       " 'llvm-extract-3.8',\n",
       " 'ksysguard',\n",
       " 'pwdx',\n",
       " 'xdg-desktop-menu',\n",
       " 'fc-validate',\n",
       " 'stream-im6',\n",
       " 'ebook-edit',\n",
       " 'meinproc4_simple',\n",
       " 'foo2slx',\n",
       " 'obexctl',\n",
       " 'ri2.3',\n",
       " 'genisoimage',\n",
       " 'apt-add-repository',\n",
       " 'konqueror',\n",
       " 'dh_gencontrol',\n",
       " 'depythontex',\n",
       " 'wc',\n",
       " 'aclocal-1.15',\n",
       " 'cb_console_runner',\n",
       " 'spd-conf',\n",
       " 'gnome-keyring-daemon',\n",
       " 'gsdj500',\n",
       " 'assistant',\n",
       " 'xetex',\n",
       " 'prezip-bin',\n",
       " 'explode.py',\n",
       " 'xfce4-popup-notes',\n",
       " 'nl',\n",
       " 'dh_installifupdown',\n",
       " 'compose',\n",
       " 'pl2link',\n",
       " 'yuvtoppm',\n",
       " 'lslogins',\n",
       " 'ucf',\n",
       " 'kscreen-doctor',\n",
       " 'ptargrep',\n",
       " 'display-im6',\n",
       " 'opentool',\n",
       " 'xcutsel',\n",
       " 'orage',\n",
       " 'latexdiff-git',\n",
       " 'evim',\n",
       " 'systemd-analyze',\n",
       " 'ebook-convert',\n",
       " 'gftopk',\n",
       " 'join',\n",
       " 'kscreen-console',\n",
       " 'linkicc',\n",
       " 'loffice',\n",
       " 'gifmaker',\n",
       " 'pgmhist',\n",
       " 'chacl',\n",
       " 'pamstack',\n",
       " 'py3clean',\n",
       " 'sty2dtx',\n",
       " 'kwriteconfig',\n",
       " 'dh_builddeb',\n",
       " 'pstopnm',\n",
       " 'texluajitc',\n",
       " 'rendercheck',\n",
       " 'ksysguardd',\n",
       " 'strip',\n",
       " 'patgen',\n",
       " 'systemd-delta',\n",
       " 'cabextract',\n",
       " 'odvicopy',\n",
       " 'logger',\n",
       " 'ot2kpx',\n",
       " 'xmore',\n",
       " 'xfce4-power-manager',\n",
       " 'sbigtopgm',\n",
       " 'plasmapkg2',\n",
       " 'dh_numpy',\n",
       " 'notify-send',\n",
       " 'update-ieee-data',\n",
       " 'pod2usage',\n",
       " 'transfig',\n",
       " 'luaotfload-tool',\n",
       " 'sopranod',\n",
       " 'devnag',\n",
       " 'pdfjam',\n",
       " 'VBoxBalloonCtrl',\n",
       " 'wodim',\n",
       " 'setmetamode',\n",
       " 'enchant',\n",
       " 'gpgconf',\n",
       " 'korganizer',\n",
       " 'scrollkeeper-install',\n",
       " 'codepage',\n",
       " 'ppmquant',\n",
       " 'mag',\n",
       " 'festival_client',\n",
       " '2to3-2.7',\n",
       " 'kcm-touchpad-list-devices',\n",
       " 'gtk-launch',\n",
       " 'llvm-mcmarkup-3.8',\n",
       " 'timeshift-uninstall',\n",
       " 'orca-dm-wrapper',\n",
       " 'akonadi_pop3_resource',\n",
       " 'VBoxBugReport',\n",
       " 'foo2oak',\n",
       " 'nm',\n",
       " 'pbmtextps',\n",
       " 'pimsettingexporterconsole',\n",
       " 'msgexec',\n",
       " 'pnmtoddif',\n",
       " 'cdrdao',\n",
       " 'querybts',\n",
       " 'ipcmk',\n",
       " 'dh_perl',\n",
       " 'run-with-aspell',\n",
       " 'wpa_passphrase',\n",
       " 'pinky',\n",
       " 'kdebugdialog5',\n",
       " 'virtualboxvm',\n",
       " 'viewres',\n",
       " 'python2',\n",
       " 'rename',\n",
       " 'systemd-resolve',\n",
       " 'luajittex',\n",
       " 'stream',\n",
       " 'pgmtopbm',\n",
       " 'gacutil',\n",
       " 'xinit',\n",
       " 'csplain',\n",
       " 't1binary',\n",
       " 't1dotlessj',\n",
       " 'pyrsa-decrypt',\n",
       " 'pnmremap',\n",
       " 'ppmtobmp',\n",
       " 'x86_64-linux-gnu-ar',\n",
       " 'animate-im6.q16',\n",
       " 'lft.db',\n",
       " 'servicemenudeinstallation',\n",
       " 'simpdftex',\n",
       " 'llvm-pdbdump-3.8',\n",
       " 'dehtmldiff',\n",
       " 'grub-mkpasswd-pbkdf2',\n",
       " 'conjure-im6',\n",
       " 'breeze-settings5',\n",
       " 'mflua',\n",
       " 'pdfjam-slides6up',\n",
       " 'mesg',\n",
       " 'timeshift',\n",
       " 'ispdb',\n",
       " 'kwin',\n",
       " 'wish',\n",
       " 'pfarrei',\n",
       " 'hp-colorcal',\n",
       " 'systemd-mount',\n",
       " 'evince-previewer',\n",
       " 'bibtexu',\n",
       " 'yaml-bench-3.8',\n",
       " 'unzipsfx',\n",
       " 'ppmshift',\n",
       " 'debconf-set-selections',\n",
       " 'gdebi',\n",
       " 'VBox',\n",
       " 'pdfjadetex',\n",
       " 'identify',\n",
       " 'xgettext',\n",
       " 'kmail',\n",
       " 'xfsettingsd',\n",
       " 'sputoppm',\n",
       " 'ptar',\n",
       " 'base64',\n",
       " 'policytool',\n",
       " 'pasuspender',\n",
       " 'xstdcmap',\n",
       " 'dpkg-scansources',\n",
       " 'bluemoon',\n",
       " 'pbmtoepson',\n",
       " 'traceroute6',\n",
       " 'pcimodules',\n",
       " 'mpris-proxy',\n",
       " 'f2py2.7',\n",
       " 'poff',\n",
       " 'cef5latex',\n",
       " 'whereis',\n",
       " 'pygettext3',\n",
       " 'sdptool',\n",
       " 'chrt',\n",
       " 'atobm',\n",
       " 'podebconf-display-po',\n",
       " 'md5sum.textutils',\n",
       " 'dbus-daemon',\n",
       " 'pacmd',\n",
       " 'pgmtolispm',\n",
       " 'delpart',\n",
       " 'animate',\n",
       " 'httexi',\n",
       " 'pinentry-gnome3',\n",
       " 'symcryptrun',\n",
       " 'foo2oak-wrapper',\n",
       " 'dbus-send',\n",
       " 'nohup',\n",
       " 'split',\n",
       " 'hexdump',\n",
       " 'dvips',\n",
       " 'llvm-dis-3.8',\n",
       " 'pixeltool',\n",
       " 'onto2vocabularyclass',\n",
       " 'lzgrep',\n",
       " '[',\n",
       " 'VBoxDTrace',\n",
       " 'xasy',\n",
       " 'grog',\n",
       " 'fiascotopnm',\n",
       " 'kmag',\n",
       " 'sha512sum',\n",
       " 'ktraderclient5',\n",
       " 'lzcat',\n",
       " 'kmousetool',\n",
       " 'dh_gtkmodules',\n",
       " 'akonadi_davgroupware_resource',\n",
       " 'updvitomp',\n",
       " 'defmt-c',\n",
       " 'isovfy',\n",
       " 'systemd-cgls',\n",
       " 'x86_64-linux-gnu-python2.7-config',\n",
       " 'rarian-sk-get-extended-content-list',\n",
       " 'macptopbm',\n",
       " 'dviasm',\n",
       " 'compare-im6',\n",
       " 'bbox',\n",
       " 'gcov-6',\n",
       " 'cd-fix-profile',\n",
       " 'ktelnetservice',\n",
       " 'firefox',\n",
       " 'kde4',\n",
       " 'xqxdecode',\n",
       " 'importwizard',\n",
       " 'foomatic-ppdfile',\n",
       " 'x86_64-linux-gnu-strip',\n",
       " 'ppmtopi1',\n",
       " 'xfrun4',\n",
       " 'erb',\n",
       " 'synctex',\n",
       " 'top',\n",
       " 'viewer.py',\n",
       " 'busctl',\n",
       " 'dvitomp',\n",
       " 'pacat',\n",
       " 'xfce4-power-manager-settings',\n",
       " 'pnmtile',\n",
       " 'typeoutfileinfo',\n",
       " 'texdoctk',\n",
       " 'resizepart',\n",
       " 'lastlog',\n",
       " 'dh_lintian',\n",
       " 'pdftocairo',\n",
       " 'xfce4-panel',\n",
       " 'linux-version',\n",
       " 'pdflatexpicscale',\n",
       " 'updmap',\n",
       " 'dm-tool',\n",
       " 'pdfdetach',\n",
       " 'autoupdate',\n",
       " 'pbmtobbnbg',\n",
       " 'less',\n",
       " 'pyrsa-sign',\n",
       " 'tifftopnm',\n",
       " 'xprop',\n",
       " 'calendar',\n",
       " 'pdfseparate',\n",
       " 'dviselect',\n",
       " 'sha224sum',\n",
       " 'fig4latex',\n",
       " 'mariadb',\n",
       " 'akonadictl',\n",
       " 'csscapture',\n",
       " 'derb',\n",
       " 'ppmtoeyuv',\n",
       " 'tz_convert',\n",
       " 'fmtutil',\n",
       " 'rdjpgcom',\n",
       " 'akonadiselftest',\n",
       " 'gnome-www-browser',\n",
       " 'imgtoppm',\n",
       " 'nawk',\n",
       " 'getafm',\n",
       " 'dvilj2p',\n",
       " 'winicontoppm',\n",
       " 'pgmnorm',\n",
       " 'oakdecode',\n",
       " 'kfontview',\n",
       " 'yaml2obj-3.8',\n",
       " 'ctstat',\n",
       " 'perldoc',\n",
       " 'nm-online',\n",
       " 'x86_64-linux-gnu-gcc-nm',\n",
       " 'dpkg-genbuildinfo',\n",
       " 'text2wave',\n",
       " 'pktogf',\n",
       " 'showchar',\n",
       " 'dvi2tty',\n",
       " 'colrm',\n",
       " 'rarian-sk-rebuild',\n",
       " 'ptex',\n",
       " 'outocp',\n",
       " 'xvidtune',\n",
       " 'k3bsetup',\n",
       " 'hciattach',\n",
       " 'initex',\n",
       " 'resizecons',\n",
       " 'prezip',\n",
       " 'dv2dt',\n",
       " 'kbuildsycoca5',\n",
       " 'cc',\n",
       " 'unexpand',\n",
       " 'pdftoppm',\n",
       " 'pydoc3.5',\n",
       " 'ps2lexmark',\n",
       " 'psicc',\n",
       " 'contextjit',\n",
       " 'traceproto.db',\n",
       " 'isoinfo',\n",
       " 'ppmtosixel',\n",
       " 'tclsh',\n",
       " 'wish8.6',\n",
       " 'akonadi_control',\n",
       " 'dh_installmanpages',\n",
       " 'eqn',\n",
       " 'display',\n",
       " 'mkt1font',\n",
       " 'printf',\n",
       " 'llvm-stress-3.8',\n",
       " 'mawk',\n",
       " 'xdvipdfmx',\n",
       " 'a5booklet',\n",
       " 'keepass2',\n",
       " 'dvipng',\n",
       " 'ciptool',\n",
       " 'qmlmin',\n",
       " 'pmpost',\n",
       " 'qmlprofiler',\n",
       " 'x86_64-linux-gnu-pkg-config',\n",
       " 'xditview',\n",
       " 'ppmtoxpm',\n",
       " 'lcf',\n",
       " 'leaftoppm',\n",
       " 'ristretto',\n",
       " 'winpopup-send',\n",
       " 'play',\n",
       " 'xfce4-sensors',\n",
       " 'x86_64-linux-gnu-python-config',\n",
       " 'routef',\n",
       " 't1ascii',\n",
       " 'pnmalias',\n",
       " 'xeyes',\n",
       " 'fc-cat',\n",
       " 'clang',\n",
       " 'ppmtotga',\n",
       " 'scrollkeeper-get-cl',\n",
       " 'dvipos',\n",
       " 'sensors',\n",
       " 'ppmdist',\n",
       " 'x86_64-linux-gnu-gcc-ranlib',\n",
       " 'gcc-6',\n",
       " 'cvlc',\n",
       " 'clang++',\n",
       " 'checklistings',\n",
       " 'uconv',\n",
       " 'iecset',\n",
       " 'clang-query-3.8',\n",
       " 'dbus-run-session',\n",
       " 'tpic2pdftex',\n",
       " 'wmf2svg',\n",
       " 'igawk',\n",
       " 'wmf2fig',\n",
       " 'h2xs',\n",
       " 'psnup',\n",
       " 'ps2ps',\n",
       " 'getconf',\n",
       " 'ps2pdf14',\n",
       " 'xlsfonts',\n",
       " 'mk_modmap',\n",
       " 'gouldtoppm',\n",
       " 'linux-update-symlinks',\n",
       " 'dirmngr',\n",
       " 'sieveeditor',\n",
       " 'openssl',\n",
       " 'pactl',\n",
       " 't1disasm',\n",
       " 'texdiff',\n",
       " 'llvm-symbolizer-3.8',\n",
       " 'colormgr',\n",
       " 'ktnef',\n",
       " 'desktop-file-edit',\n",
       " 'nmtui-edit',\n",
       " 'pdftex',\n",
       " 'mtxrunjit',\n",
       " 'bg5+latex',\n",
       " 'clang-query',\n",
       " 'su-to-root',\n",
       " 'pic2tpic',\n",
       " 'ppmforge',\n",
       " 'gemtopnm',\n",
       " 'includeres',\n",
       " 'autoreconf',\n",
       " 'gawk',\n",
       " 'rediff',\n",
       " 'xdg-open',\n",
       " 'pgmedge',\n",
       " 'kopete_latexconvert.sh',\n",
       " 'gnome-keyring-3',\n",
       " 'psfxtable',\n",
       " 'stacer',\n",
       " 'hp-firmware',\n",
       " 'x86_64-linux-gnu-gcc-nm-6',\n",
       " 'msgmerge',\n",
       " 'parecord',\n",
       " 'akonadi_migration_agent',\n",
       " 'xdg-user-dir',\n",
       " 'mariadbcheck',\n",
       " 'lzcmp',\n",
       " 'pdfxmltex',\n",
       " 'deluge',\n",
       " 'designer',\n",
       " 'shuf',\n",
       " 'vmwarectrl',\n",
       " 'zipdetails',\n",
       " 'lsb_release',\n",
       " 'fig2dev',\n",
       " 'rtstat',\n",
       " 'pkcon',\n",
       " 'dh_installwm',\n",
       " 'kstartupconfig5',\n",
       " 'pdfjam-pocketmod',\n",
       " 'listbib',\n",
       " 'dpkg-buildpackage',\n",
       " 'yuvsplittoppm',\n",
       " 'min12xxw',\n",
       " 'dh_usrlocal',\n",
       " 'latexmk',\n",
       " 'bc',\n",
       " 'giftopnm',\n",
       " 'kross',\n",
       " 'ckeygen',\n",
       " 'numfmt',\n",
       " 'rletopnm',\n",
       " 'khelpcenter',\n",
       " 'foomatic-ppd-options',\n",
       " 'lomath',\n",
       " 'xfce4-popup-windowmenu',\n",
       " 'cmuwmtopbm',\n",
       " 'ebook-meta',\n",
       " 'piconv',\n",
       " 'toc2cue',\n",
       " 'mfplain',\n",
       " 'kdeconnect-cli',\n",
       " 'xfwm4-tweaks-settings',\n",
       " 'jpgicc',\n",
       " 'skill',\n",
       " 'xfce4-mouse-settings',\n",
       " 'ssh-askpass',\n",
       " 'perl',\n",
       " 'pnmpaste',\n",
       " 'libwacom-list-local-devices',\n",
       " 'llvm-dwp-3.8',\n",
       " 'uic3',\n",
       " 'ppmmake',\n",
       " 'gamma4scanimage',\n",
       " 'preunzip',\n",
       " 'cert-sync',\n",
       " 'apt-ftparchive',\n",
       " 'lsipc',\n",
       " 'addr2line',\n",
       " 'dh_scour',\n",
       " 'gslj',\n",
       " 'keytool',\n",
       " 'od',\n",
       " 'lowriter',\n",
       " 'kpsewhich',\n",
       " 'dvilj4l',\n",
       " 'exo-csource',\n",
       " 'kf5-config',\n",
       " 'update-mime-database.real',\n",
       " 'thinkjettopbm',\n",
       " 'kfile4',\n",
       " 'neqn',\n",
       " 'pbmtogo',\n",
       " 'unattended-upgrades',\n",
       " 'dh_update_autotools_config',\n",
       " 'dragon',\n",
       " 'sudoedit',\n",
       " 'llvm-dsymutil-3.8',\n",
       " 'tgatoppm',\n",
       " 'pinentry-curses',\n",
       " 'synclient',\n",
       " 'discover-config',\n",
       " 'dpkg-divert',\n",
       " 'cef5conv',\n",
       " 'msexpand',\n",
       " 'gemtopbm',\n",
       " 'akonadi_indexing_agent',\n",
       " 'pod2man',\n",
       " 'gencat',\n",
       " 'import',\n",
       " 'info',\n",
       " 'pbmtoybm',\n",
       " 'cjpeg',\n",
       " 'sessreg',\n",
       " 'palmtopnm',\n",
       " 'procan',\n",
       " 'rubibtex',\n",
       " 'diadia',\n",
       " 'plmerge',\n",
       " 'xkbcomp',\n",
       " 'unmkinitramfs',\n",
       " 'llvm-diff-3.8',\n",
       " 'foo2hbpl2-wrapper',\n",
       " 'akonadi_kalarm_dir_resource',\n",
       " 'arecordmidi',\n",
       " 'vim.gtk',\n",
       " 'krusader',\n",
       " 'ppdpo',\n",
       " 'scan-build',\n",
       " 'ppmnorm',\n",
       " 'hostnamectl',\n",
       " 'xkill',\n",
       " 'etex',\n",
       " 'ps2ascii',\n",
       " 'llvm-split-3.8',\n",
       " 'gconftool-2',\n",
       " 'pnmtotiff',\n",
       " 'btcflash',\n",
       " 'tlmgr',\n",
       " 'perlthanks',\n",
       " 'pilconvert.py',\n",
       " 'akonadi_mailfilter_agent',\n",
       " 'systemd-detect-virt',\n",
       " 'dh_auto_clean',\n",
       " 'JxrEncApp',\n",
       " 'wmf2eps',\n",
       " 'wordview',\n",
       " 'kwin_x11',\n",
       " 'bibtex',\n",
       " 'plser',\n",
       " 'dvd+rw-mediainfo',\n",
       " 'axi-cache',\n",
       " 'btmgmt',\n",
       " 'qmltestrunner',\n",
       " 'mid3iconv',\n",
       " 'rview',\n",
       " 'autoheader',\n",
       " 'akregatorstorageexporter',\n",
       " 'namei',\n",
       " 'ttfdump',\n",
       " 'kmail_sav',\n",
       " 'kernel-install',\n",
       " 'unzip',\n",
       " 'innochecksum',\n",
       " 'ncal',\n",
       " 'pngtopnm',\n",
       " 'akonadi_kalarm_resource',\n",
       " 'wbmptopbm',\n",
       " 'kpsereadlink',\n",
       " 'lwp-download',\n",
       " 'c_rehash',\n",
       " 'obj2yaml-3.8',\n",
       " 'sum',\n",
       " 'ckbcomp',\n",
       " 'xcalc',\n",
       " 'scp',\n",
       " 'infocmp',\n",
       " 'xembedsniproxy',\n",
       " 'epspdf',\n",
       " 'ranlib',\n",
       " 'kcmshell4',\n",
       " 'xdg-screensaver',\n",
       " 'pbmtopi3',\n",
       " 'exifautotran',\n",
       " 'bashbug',\n",
       " 'gdk-pixbuf-pixdata',\n",
       " 'loweb',\n",
       " 'kwriteconfig5',\n",
       " 'envsubst',\n",
       " 'jadetex',\n",
       " 'dbus-launch',\n",
       " 'scrollkeeper-get-toc-from-id',\n",
       " 'kactivitymanagerd',\n",
       " 'nm-connection-editor',\n",
       " 'unwrapdiff',\n",
       " 'xclipboard',\n",
       " 'irb2.3',\n",
       " 'pdfflip',\n",
       " 'dpkg-shlibdeps',\n",
       " 'zjsdecode',\n",
       " 'dpkg-vendor',\n",
       " 'lpstat',\n",
       " 'gidmigrator',\n",
       " 'fixdlsrps',\n",
       " 'qcollectiongenerator',\n",
       " 'run-mailcap',\n",
       " 'hpijs',\n",
       " 'qdoc3',\n",
       " 'conchftp',\n",
       " 'make_strings',\n",
       " 'alsatplg',\n",
       " 'vptovf',\n",
       " 'dc',\n",
       " 'upmpost',\n",
       " 'sopranocmd',\n",
       " 'gcov-dump-6',\n",
       " 'objdump',\n",
       " 'x86_64-linux-gnu-g++',\n",
       " 'cd-create-profile',\n",
       " 'cvtenc',\n",
       " 'mktexmf',\n",
       " 'extractres',\n",
       " '2to3-3.5',\n",
       " 'ptex2pdf',\n",
       " 'ppmtopuzz',\n",
       " 'otftotfm',\n",
       " 'l4p-tmpl',\n",
       " 'openapp',\n",
       " 'calibredb',\n",
       " 'pbmtoxbm',\n",
       " 'tac',\n",
       " 'scrollkeeper-preinstall',\n",
       " 'ilbmtoppm',\n",
       " 'pdfcslatex',\n",
       " 'x86_64-linux-gnu-gcov-dump',\n",
       " 'arch',\n",
       " 'pbmtomda',\n",
       " 'git',\n",
       " 'pgmtofs',\n",
       " 'kde5-nm-connection-editor',\n",
       " 'groff',\n",
       " 'grub-mkrelpath',\n",
       " 'glxheads',\n",
       " 'xfce4-session-logout',\n",
       " 'gdk-pixbuf-csource',\n",
       " 'lua2dox_filter',\n",
       " 'make',\n",
       " 'rgvim',\n",
       " 'defaults',\n",
       " 'ipcs',\n",
       " 'rgb3toppm',\n",
       " 'icombine',\n",
       " 'sancov-3.8',\n",
       " 'texlua',\n",
       " 'rstartd',\n",
       " 'latexfileversion',\n",
       " 'llvm-size-3.8',\n",
       " 'xsetpointer',\n",
       " 'kactivities-cli',\n",
       " 'pyrsa-encrypt-bigfile',\n",
       " 'splain',\n",
       " 'catman',\n",
       " 'tset',\n",
       " 'gconftool',\n",
       " 'vpe',\n",
       " 'ppmshadow',\n",
       " 'lualatex',\n",
       " 'dh_installlogcheck',\n",
       " 'instmodsh',\n",
       " 'mysql_upgrade',\n",
       " 'llvm-tblgen-3.8',\n",
       " 'scan-view-3.8',\n",
       " 'kwrapper4',\n",
       " 'thunar-volman-settings',\n",
       " 'nspluginviewer',\n",
       " 'ark',\n",
       " 'ppmtogif',\n",
       " 'pilprint',\n",
       " 'm2400w',\n",
       " 'pip',\n",
       " 'mtrace',\n",
       " 'systemmonitor',\n",
       " 'icotool',\n",
       " 'grub-mkstandalone',\n",
       " 'mysql',\n",
       " 'alsamixer',\n",
       " 'xfdesktop',\n",
       " 'aot-compile',\n",
       " 'match_parens',\n",
       " 'ssh-argv0',\n",
       " 'vboxmanage',\n",
       " 'speaker-test',\n",
       " 'pango-view',\n",
       " 'xmessage',\n",
       " 'sweeper',\n",
       " 'ipod-time-sync',\n",
       " 'pyclean',\n",
       " 'identify-im6.q16',\n",
       " 'pdb3',\n",
       " 'vcdxminfo',\n",
       " 'baloo_file_extractor',\n",
       " 'x-www-browser',\n",
       " 'sugar-activity-web',\n",
       " 'montage-im6',\n",
       " 'clang-tblgen-3.8',\n",
       " 'allneeded',\n",
       " 'm-tx',\n",
       " 'id',\n",
       " 'xzgrep',\n",
       " 'lsof',\n",
       " 'catdoc',\n",
       " 'fitstopnm',\n",
       " 'js',\n",
       " 'dh_testroot',\n",
       " 'klipper',\n",
       " 'pkttyagent',\n",
       " 'authorindex',\n",
       " 'rstart',\n",
       " 'kaccess',\n",
       " 'mft',\n",
       " 'wmf2x',\n",
       " 'x86_64-linux-gnu-ld.bfd',\n",
       " 'vlc',\n",
       " 'makeinfo',\n",
       " 'mandb',\n",
       " 'isdv4-serial-inputattach',\n",
       " 'esc-m',\n",
       " 'rdoc',\n",
       " 'clang-tblgen',\n",
       " 'calibre-complete',\n",
       " 'qmake',\n",
       " 'systemd-path',\n",
       " 'sox',\n",
       " 'pdfnup',\n",
       " 'c99',\n",
       " 'gcc',\n",
       " 'flock',\n",
       " 'quodlibet',\n",
       " 'i386',\n",
       " 'xls2csv',\n",
       " 'padsp',\n",
       " 'llvm-link-3.8',\n",
       " 'fetch-ebook-metadata',\n",
       " 'dpkg-distaddfile',\n",
       " 'debconf-updatepo',\n",
       " 'alsabat',\n",
       " 'realpath',\n",
       " 'tbl',\n",
       " 'dpkg-buildflags',\n",
       " 'kfilemetadatareader',\n",
       " 'dh_installppp',\n",
       " 'rsh',\n",
       " 'ppmtolj',\n",
       " 'xfce4-clipman',\n",
       " 'xfce4-clipman-settings',\n",
       " 'servertool',\n",
       " 'setpci',\n",
       " 'pgmenhance',\n",
       " 'fmt',\n",
       " 'foo2lava-wrapper',\n",
       " 'calibre-parallel',\n",
       " 'word-list-compress',\n",
       " 'dolphin4',\n",
       " 'rarian-sk-migrate',\n",
       " 'setlogcons',\n",
       " 'partx',\n",
       " 'mktexpk',\n",
       " 'sha1sum',\n",
       " 'xgc',\n",
       " 'socat',\n",
       " 'editres',\n",
       " 't1c2pfb',\n",
       " 'gencnval',\n",
       " 't1rawafm',\n",
       " 'mkgrkindex',\n",
       " 'clang++-3.8',\n",
       " 't4ht',\n",
       " 'pbmtogem',\n",
       " 'asciitopgm',\n",
       " 'qml1plugindump',\n",
       " 'pathchk',\n",
       " 'pbmpage',\n",
       " 'kdeinit5_wrapper',\n",
       " 'bg5pdflatex',\n",
       " 'ppmtopgm',\n",
       " 'pgmslice',\n",
       " 'glib-gettextize',\n",
       " 'dbus-cleanup-sockets',\n",
       " 'plparse',\n",
       " 'llvm-nm-3.8',\n",
       " 'ppdi',\n",
       " 'unpack200',\n",
       " 'ps2txt',\n",
       " 'python3.5m',\n",
       " 'fixpsditps',\n",
       " 'baloosearch',\n",
       " 'headerthemeeditor',\n",
       " 'asy',\n",
       " 'install-menu',\n",
       " 'ps2eps',\n",
       " 'psfstriptable',\n",
       " 'svn-multi',\n",
       " 'watch',\n",
       " 'kiconfinder5',\n",
       " 'opl2ofm',\n",
       " 'gtbl',\n",
       " 'pktype',\n",
       " 'makejvf',\n",
       " 'update-mime-database',\n",
       " 'perf',\n",
       " 'pycompile',\n",
       " 'pnmmontage',\n",
       " 'ovf2ovp',\n",
       " 'foo2hiperc-wrapper',\n",
       " 'x86_64-linux-gnu-ld.gold',\n",
       " 'lesskey',\n",
       " 'hd',\n",
       " 'qmleasing',\n",
       " 'x86_64-linux-gnu-readelf',\n",
       " 'moggsplit',\n",
       " 'mutagen-inspect',\n",
       " 'debconf-gettextize',\n",
       " 'jpegtopnm',\n",
       " 'pamfile',\n",
       " 'ngettext',\n",
       " 'findrule',\n",
       " 'purifyeps',\n",
       " 'wopl2ofm',\n",
       " 'context',\n",
       " 'kcheckrunning',\n",
       " 'xbiff',\n",
       " 'kmenuedit',\n",
       " 'localc',\n",
       " 'cpp',\n",
       " 'gs',\n",
       " 'knotify4',\n",
       " 'lzegrep',\n",
       " 'lavadecode',\n",
       " 'lzless',\n",
       " 'basename',\n",
       " 'telnet',\n",
       " 'vpl2vpl',\n",
       " 'vlc-wrapper',\n",
       " 'libnetcfg',\n",
       " 'scan-view',\n",
       " 'qmlimportscanner',\n",
       " 'install',\n",
       " 'htxelatex',\n",
       " 'uptex',\n",
       " 'kcminit',\n",
       " 'kreadconfig5',\n",
       " 'akonadi_mixedmaildir_resource',\n",
       " 'gtk-builder-tool',\n",
       " 'kpsewhere',\n",
       " 'ppdhtml',\n",
       " 'rarian-sk-preinstall',\n",
       " 'zdump',\n",
       " 'hex2hcd',\n",
       " 'pdfimages',\n",
       " 'dh_link',\n",
       " 'calibre-smtp',\n",
       " 'mk4ht',\n",
       " 'pnmtoxwd',\n",
       " 'hp-testpage',\n",
       " 'debconf-show',\n",
       " 'xfce4-appearance-settings',\n",
       " 'gvim',\n",
       " 'xzmore',\n",
       " 'ppmntsc',\n",
       " 'xvinfo',\n",
       " 'xfce4-terminal',\n",
       " 'lspgpot',\n",
       " 'icuinfo',\n",
       " 'traceroute6.db',\n",
       " 'foo2xqx',\n",
       " 'makeindex',\n",
       " 'texcount',\n",
       " 'lily-image-commands',\n",
       " 'faked-sysv',\n",
       " 'addpart',\n",
       " 'de-macro',\n",
       " 'pamstretch-gen',\n",
       " 'pmx2pdf',\n",
       " 'pythontex3',\n",
       " 'biber',\n",
       " 'debugapp',\n",
       " 'sjislatex',\n",
       " 'neotoppm',\n",
       " 'pnminterp-gen',\n",
       " 'fixscribeps',\n",
       " 'scrollkeeper-get-content-list',\n",
       " 'mkpic',\n",
       " 'VBoxVRDP',\n",
       " 'view',\n",
       " 'pnminterp',\n",
       " 'foo2lava',\n",
       " 'fc-pattern',\n",
       " 'lp',\n",
       " 'bg5latex',\n",
       " 'akonadi_vcarddir_resource',\n",
       " 'lzma',\n",
       " 'dh_testdir',\n",
       " 'tftopl',\n",
       " 'zipsplit',\n",
       " 'rarian-sk-extract',\n",
       " 'pack200',\n",
       " 'colcrt',\n",
       " 'akonadi_maildispatcher_agent',\n",
       " 'pnmnorm',\n",
       " 'mdatopbm',\n",
       " 'kdeinit4',\n",
       " 'rgview',\n",
       " 'apt-cache',\n",
       " 'rarian-sk-get-content-list',\n",
       " 'texi2dvi',\n",
       " 'xdg-settings',\n",
       " 'usbhid-dump',\n",
       " 'pkill',\n",
       " 'mono',\n",
       " 'rvlc',\n",
       " 'pn2pdf',\n",
       " 'animate-im6',\n",
       " 'xfdesktop-settings',\n",
       " 'setsid',\n",
       " 'update-gconf-defaults',\n",
       " 'intel-virtual-output',\n",
       " 'zipinfo',\n",
       " 'pdffonts',\n",
       " 'akonadi_birthdays_resource',\n",
       " 'update-perl-sax-parsers',\n",
       " 'dvibook',\n",
       " 'jamo-normalize',\n",
       " 'lastb',\n",
       " 'kmail_antivir',\n",
       " 'okular',\n",
       " 'sensible-editor',\n",
       " 'alsaloop',\n",
       " 'x86_64',\n",
       " 'gpgsplit',\n",
       " 'HTMLLinker',\n",
       " 'clang-cl-3.8',\n",
       " 'kmail_clamav',\n",
       " 'foomatic-printjob',\n",
       " 'ksnapshot',\n",
       " 'gettextize',\n",
       " 'gsettings',\n",
       " 'pbibtex',\n",
       " 'mkindex',\n",
       " 'pstoedit',\n",
       " 'ppmquantall',\n",
       " 'ebook-viewer',\n",
       " 'servicemenuinstallation',\n",
       " 'texfind',\n",
       " 'ppmrelief',\n",
       " 'vcdimager',\n",
       " 'xrandr',\n",
       " 'rgrep',\n",
       " 'hp-setup',\n",
       " 'dbus-monitor',\n",
       " 'podebconf-report-po',\n",
       " 'getmapdl',\n",
       " 'akonadi_sendlater_agent',\n",
       " 'dirmngr-client',\n",
       " 'xmlpatterns',\n",
       " 'composite',\n",
       " 'diffstat',\n",
       " 'clang-check',\n",
       " 'x86_64-linux-gnu-elfedit',\n",
       " 'shasum',\n",
       " 'xman',\n",
       " 'epspdftk',\n",
       " 'x11perf',\n",
       " 'helpztags',\n",
       " 'unar',\n",
       " 'VBoxHeadless',\n",
       " 'paplay',\n",
       " 'on_ac_power',\n",
       " 'pbmtonokia',\n",
       " 'lily-glyph-commands',\n",
       " 'pkaction',\n",
       " 'xauth',\n",
       " 'gpasswd',\n",
       " 'mkfontdir',\n",
       " 'grub-kbdcomp',\n",
       " 'ipod-read-sysinfo-extended',\n",
       " 'paperconf',\n",
       " 'thumbpdf',\n",
       " 'xdvi-xaw',\n",
       " 'pl2pm',\n",
       " 'freetype-config',\n",
       " 'gview',\n",
       " 'conjure-im6.q16',\n",
       " 'bibzbladd',\n",
       " 'chattr',\n",
       " 'traceroute-nanog',\n",
       " 'mysqlcheck',\n",
       " 'gspath',\n",
       " 'dh_fixperms',\n",
       " 'miniterm.py',\n",
       " 'a5toa4',\n",
       " 'kdeinit4_shutdown',\n",
       " 'gksudo',\n",
       " 'dh_installdeb',\n",
       " 'platex',\n",
       " ...]"
      ]
     },
     "execution_count": 39,
     "metadata": {},
     "output_type": "execute_result"
    }
   ],
   "source": [
    "# Linux\n",
    "os.listdir('/usr/bin')"
   ]
  },
  {
   "cell_type": "markdown",
   "metadata": {},
   "source": [
    "Como podemos ver, el editor de texto Kate en mi computador tiene un tamaño de 836984 bytes y tengo muchos archivos dentro de `’/usr/bin’`. Si quiero encontrar el tamaño total de todos los archivos en este directorio, puedo usar `os.path.getsize(ruta)` y `os.listdir(ruta)` juntos de la siguiente manera."
   ]
  },
  {
   "cell_type": "code",
   "execution_count": 41,
   "metadata": {},
   "outputs": [
    {
     "name": "stdout",
     "output_type": "stream",
     "text": [
      "815953321\n"
     ]
    }
   ],
   "source": [
    "totalSize = 0\n",
    "for filename in os.listdir('/usr/bin'):\n",
    "    totalSize = totalSize + os.path.getsize(os.path.join('/usr/bin', filename))\n",
    "    \n",
    "print(totalSize)"
   ]
  },
  {
   "cell_type": "markdown",
   "metadata": {},
   "source": [
    "En cada iteración sobre el nombre de archivo `filename` en el directorio `/usr/bin` , la variable `totalSize` es incrementada en el tamaño de cada uno de los archivos. Nótese cómo al llamar `os.path.getsize()`, usamos `os.path.join()` para unir la ruta del directorio con el nombre del archivo. El entero que `os.path.getsize()` retorna es sumado a la variable `totalSize`. Al terminar todas las iteraciones, imprimo el valor acumulado de `totalSize`."
   ]
  },
  {
   "cell_type": "markdown",
   "metadata": {},
   "source": [
    "## Verificando la validez de la ruta"
   ]
  },
  {
   "cell_type": "markdown",
   "metadata": {},
   "source": [
    "Muchas funciones de Python producirán un mensaje de error si ingresamos una ruta que no existe. El módulo `os.path` suministra funciones para verificar si la ruta dada existe y si se trata de un archivo o un directorio.\n",
    "\n",
    "+ Llamar `os.path.exists(ruta)` retornará un `True` si el archivo o el directorio ingresado en la ruta como argumento, existe. Si no existe, retornará un `False`\n",
    "+ Llamar `os.path.isfile(ruta)` retornará `True` si la ruta del argumento existe y es un archivo, de lo contrario retornará `False`.\n",
    "+ Llamar `os.path.isdir(ruta)` retornará `True` si la ruta del argumento existe y es un directorio, de lo contrario retornará `False`.\n",
    "\n",
    "Veamos algunos ejemplos:"
   ]
  },
  {
   "cell_type": "markdown",
   "metadata": {},
   "source": [
    "__Windows__"
   ]
  },
  {
   "cell_type": "code",
   "execution_count": null,
   "metadata": {},
   "outputs": [],
   "source": [
    "os.path.exists('C:\\\\Windows')"
   ]
  },
  {
   "cell_type": "code",
   "execution_count": null,
   "metadata": {},
   "outputs": [],
   "source": [
    "os.path.exists('C:\\\\directorioFalso')"
   ]
  },
  {
   "cell_type": "code",
   "execution_count": null,
   "metadata": {
    "collapsed": true
   },
   "outputs": [],
   "source": [
    "os.path.isdir('C:\\\\Windows\\\\System32')"
   ]
  },
  {
   "cell_type": "code",
   "execution_count": null,
   "metadata": {},
   "outputs": [],
   "source": [
    "os.path.isfile('C:\\\\Windows\\\\System32')"
   ]
  },
  {
   "cell_type": "code",
   "execution_count": null,
   "metadata": {},
   "outputs": [],
   "source": [
    "os.path.isdir('C:\\\\Windpws\\\\System32\\\\calc.exe')"
   ]
  },
  {
   "cell_type": "code",
   "execution_count": null,
   "metadata": {},
   "outputs": [],
   "source": [
    "os.path.isfile('C:\\\\Windpws\\\\System32\\\\calc.exe')"
   ]
  },
  {
   "cell_type": "markdown",
   "metadata": {},
   "source": [
    "__Linux__"
   ]
  },
  {
   "cell_type": "code",
   "execution_count": 43,
   "metadata": {},
   "outputs": [
    {
     "data": {
      "text/plain": [
       "True"
      ]
     },
     "execution_count": 43,
     "metadata": {},
     "output_type": "execute_result"
    }
   ],
   "source": [
    "os.path.exists('/usr/bin')"
   ]
  },
  {
   "cell_type": "code",
   "execution_count": 44,
   "metadata": {},
   "outputs": [
    {
     "data": {
      "text/plain": [
       "False"
      ]
     },
     "execution_count": 44,
     "metadata": {},
     "output_type": "execute_result"
    }
   ],
   "source": [
    "os.path.exists('/DirectorioInexistente/')"
   ]
  },
  {
   "cell_type": "code",
   "execution_count": 45,
   "metadata": {},
   "outputs": [
    {
     "data": {
      "text/plain": [
       "True"
      ]
     },
     "execution_count": 45,
     "metadata": {},
     "output_type": "execute_result"
    }
   ],
   "source": [
    "os.path.isdir('/usr/bin')"
   ]
  },
  {
   "cell_type": "code",
   "execution_count": 48,
   "metadata": {},
   "outputs": [
    {
     "data": {
      "text/plain": [
       "False"
      ]
     },
     "execution_count": 48,
     "metadata": {},
     "output_type": "execute_result"
    }
   ],
   "source": [
    "os.path.isfile('/usr/bin')"
   ]
  },
  {
   "cell_type": "code",
   "execution_count": 47,
   "metadata": {},
   "outputs": [
    {
     "data": {
      "text/plain": [
       "False"
      ]
     },
     "execution_count": 47,
     "metadata": {},
     "output_type": "execute_result"
    }
   ],
   "source": [
    "os.path.isdir('/usr/bin/kate')"
   ]
  },
  {
   "cell_type": "code",
   "execution_count": 49,
   "metadata": {},
   "outputs": [
    {
     "data": {
      "text/plain": [
       "True"
      ]
     },
     "execution_count": 49,
     "metadata": {},
     "output_type": "execute_result"
    }
   ],
   "source": [
    "os.path.isfile('/usr/bin/kate')"
   ]
  },
  {
   "cell_type": "markdown",
   "metadata": {},
   "source": [
    "De la misma manera, podemos determinar si hay un DVD o una USB conectada al computador mediante la función `os.path.exists()`. Por ejemplo si quiero determinar si hay algo en la unidad *E:\\* de mi computador, podría hacerlo de la siguiente manera."
   ]
  },
  {
   "cell_type": "code",
   "execution_count": null,
   "metadata": {},
   "outputs": [],
   "source": [
    "os.path.exists('D:\\\\')"
   ]
  },
  {
   "cell_type": "markdown",
   "metadata": {},
   "source": [
    "# El proceso de lectura/escritura de archivos"
   ]
  },
  {
   "cell_type": "markdown",
   "metadata": {},
   "source": [
    "Una vez que nos sintamos cómodos trabajando los directorios, rutas relativas y rutas absolutas, podemos especificar la ubicación de los archivos  para leer y escribir sobre ellos. Las funciones que veremos en las siguientes secciones se aplicarán a archivos de texto plano. Los archivos de texto plano contienen únicamente caracteres básicos de texto y no incluyen información sobre el tipo, tamaño de letra o color. \n",
    "\n",
    "Los archivos con extensión *.txt* o scripts de Python con extensión *.py* son ejemplos de archivos de texto plano. Estos pueden ser abiertos con el Block de Notas en Windows o cualquier aplicación de edición de texto. Nuestros programas podrán leer fácilmente el contenido de archivos de texto plano y tratar su contenido como una cadena de caracteres ordinaria."
   ]
  },
  {
   "cell_type": "markdown",
   "metadata": {},
   "source": [
    "Los archivos binarios son otro tipo de archivos como los documentos de procesamiento de palabras, PDFs, hojas de cálculo y ejecutables. Si abrimos un archivo binario en el Block de Notas, lucirá como un montón de caracteres sin sentido."
   ]
  },
  {
   "cell_type": "markdown",
   "metadata": {},
   "source": [
    "<img src=\"https://i.imgur.com/5UFYdHT.jpg\" width=\"500\">"
   ]
  },
  {
   "cell_type": "markdown",
   "metadata": {},
   "source": [
    "Dado que cada archivo binario se abre de una manera particular, este módulo no entrará a leer o escribir archivos binarios directamente."
   ]
  },
  {
   "cell_type": "markdown",
   "metadata": {},
   "source": [
    "Dado que cada tipo de archivo binario se abre de una forma determinada, en este capitulo no profundizaremos en la lectura y escritura de archivos binarios directamente. Afortunadamente, existen varios módulos que nos permiten trabajar con archivos binarios de forma fácil. "
   ]
  },
  {
   "cell_type": "markdown",
   "metadata": {},
   "source": [
    "Existen tres pasos para lectura y escritura de archivos en Python:\n",
    "1. Llamar la función `open()` para retornar un objeto `File`.\n",
    "2. Llamar los métodos `read()` y `write()`del objeto `File`.\n",
    "3. Cerrar el archivo llamando el método `close()` del objeto `File`."
   ]
  },
  {
   "cell_type": "markdown",
   "metadata": {},
   "source": [
    "## Abriendo archivos con la función `open()`"
   ]
  },
  {
   "cell_type": "markdown",
   "metadata": {},
   "source": [
    "Para abrir un archivo con la función `open()`, debemos pasarle una cadena como argumento indicando la ruta del archivo que deseamos abrir; puede ser la ruta absoluta o la relativa. La función `open()` siempre retornará un objeto `File`.\n",
    "\n",
    "Probemos esto creando un archivo de texto llamado `hello.txt` usando el Block de Notas. Escribamos `Hola Mundo!` como contenido de este archivo.  Luego lo guardamos en el directorio *C:\\Users\\Su_Nombre_de_Usuario\\hello.txt*"
   ]
  },
  {
   "cell_type": "code",
   "execution_count": null,
   "metadata": {},
   "outputs": [],
   "source": [
    "# Windows\n",
    "helloFile = open('C:\\\\Users\\\\Su_Nombre_de_Usuario\\\\hello.txt')"
   ]
  },
  {
   "cell_type": "code",
   "execution_count": 2,
   "metadata": {},
   "outputs": [],
   "source": [
    "# Linux\n",
    "helloFile = open('/home/thomy/Documentos/hello.txt')"
   ]
  },
  {
   "cell_type": "markdown",
   "metadata": {},
   "source": [
    "Asegúrese de reemplazar *Su_Nombre_de_Usuario* por el nombre de usuario de su computador.\n",
    "\n",
    "Ambos comandos abrirán el archivo en modo “Lectura de texto plano” o simplemente *modo lectura*. Cuando un archivo se abre en modo lectura, Python nos permiten acceder al archivo sólo para leer sus datos, no podemos escribir o modificarlo de ninguna manera. El modo lectura es el modo por defecto para archivos que abrimos en Python. No obstante, si no confiamos en el modo por defecto que tiene Python, podemos especificar explícitamente el modo lectura pasando el valor `'r'` como segundo argumento a la función `open()` de la siguiente manera: `open(‘C:\\Users\\Su_Nombre_de_Usuario\\hello.txt’, 'r')`."
   ]
  },
  {
   "cell_type": "markdown",
   "metadata": {},
   "source": [
    "El llamado a `open()` retornará un objetivo `File`. Este objeto representa un archivo en el computador; podemos entender el objeto `File` como otro tipo de dato en Python como las listas o diccionarios que ya conocemos. En el ejemplo anterior almacenamos el objeto `File` en una variable llamada `helloFile`. Ahora, cuando deseemos leer o escribir sobre el archivo, lo podemos hacer usando los métodos disponibles para el objeto en `helloFile`."
   ]
  },
  {
   "cell_type": "markdown",
   "metadata": {},
   "source": [
    "## Leyendo el contenido de los archivos"
   ]
  },
  {
   "cell_type": "markdown",
   "metadata": {},
   "source": [
    "Ahora que tenemos el objeto `File`, podemos empezar a leerlo.  Si deseamos leer el documento completo como una cadena de caracteres, podemos usar el método `read()` del objeto `file`. Continuando con el el objeto `File` *hello.txt* que almacenamos en la variable `helloFile`, ingresemos las siguientes instrucciones en el shell interactivo:"
   ]
  },
  {
   "cell_type": "code",
   "execution_count": 3,
   "metadata": {},
   "outputs": [
    {
     "data": {
      "text/plain": [
       "'Hola mundo!\\n'"
      ]
     },
     "execution_count": 3,
     "metadata": {},
     "output_type": "execute_result"
    }
   ],
   "source": [
    "helloContent = helloFile.read()\n",
    "helloContent"
   ]
  },
  {
   "cell_type": "markdown",
   "metadata": {},
   "source": [
    "Si pénsamos en el contenido de un archivo como un único valor de cadena de caracteres, el método `read()` retorna la cadena almacenada en dicho archivo. Alternativamente, podemos usar el método `readlines()` para obtener una lista de cadenas del archivo, una cadena por cada línea de texto. Por ejemplo, creemos un archivo texto llamado *sonnet29.txt* en el mismo directorio donde tenemos *hello.txt* y escribamos las siguientes líneas."
   ]
  },
  {
   "cell_type": "markdown",
   "metadata": {},
   "source": [
    "When, in disgrace with fortune and men's eyes,  \n",
    "I all alone beweep my outcast state,  \n",
    "And trouble deaf heaven with my bootless cries,  \n",
    "And look upon myself and curse my fate,  "
   ]
  },
  {
   "cell_type": "markdown",
   "metadata": {},
   "source": [
    "Asegúrense de separar las cuatro líneas con cambios de línea, luego ingresemos lo siguiente en el shell interactivo."
   ]
  },
  {
   "cell_type": "code",
   "execution_count": 7,
   "metadata": {},
   "outputs": [
    {
     "data": {
      "text/plain": [
       "[\"When, in disgrace with fortune and men's eyes,\\n\",\n",
       " 'I all alone beweep my outcast state,\\n',\n",
       " 'And trouble deaf heaven with my bootless cries,\\n',\n",
       " 'And look upon myself and curse my fate,\\n']"
      ]
     },
     "execution_count": 7,
     "metadata": {},
     "output_type": "execute_result"
    }
   ],
   "source": [
    "sonnetFile = open('/home/thomy/Documentos/sonnet29.txt')\n",
    "sonnetFile.readlines()"
   ]
  },
  {
   "cell_type": "markdown",
   "metadata": {},
   "source": [
    "Nótese que cada cadena finaliza con el caracter de cambio de línea. Una lista de cadenas es usualmente más fácil de trabajar que una única cadena de catracteres."
   ]
  },
  {
   "cell_type": "markdown",
   "metadata": {},
   "source": [
    "## Escribiendo archivos"
   ]
  },
  {
   "cell_type": "markdown",
   "metadata": {},
   "source": [
    "Python nos permite escribir sobre archivos de manera similar a cómo la función `print()` imprime en pantalla. No podemos escribir sobre un archivo que hayamos abierto en modo lectura. Sin embargo, podemos abrirlo en modo *escritura* o en modo *append*.\n",
    "\n",
    "El modo escritura sobre-escribirá el archivo existente y empezara desde a cero a modificarlo, de la misma manera que sobre-escribimos el valor de una variable. Pasarle `'w'` como segundo argumento a `open()` abrirá el archivo en modo escritura. Por otro lado, el modo append, insertará texto al final del archivo, podemos pensar en esto como insertar al final de una lista un nuevo valor, en lugar de sobre-escribirla. Pasarle `'a'` como segundo argumento a `open()`, abrirá el archivo en modo append.\n",
    "\n",
    "Si el nombre de archivo pasado a `open()` no existe, ambos modos crearán un archivo en blanco.\n",
    "\n",
    "Luego de leer o escribir sobre un archivo debemos llamar el método `close()` antes de abrir el archivo nuevamente.\n",
    "\n",
    "Veamos estos conceptos integrados en un ejemplo:"
   ]
  },
  {
   "cell_type": "code",
   "execution_count": 3,
   "metadata": {},
   "outputs": [
    {
     "data": {
      "text/plain": [
       "13"
      ]
     },
     "execution_count": 3,
     "metadata": {},
     "output_type": "execute_result"
    }
   ],
   "source": [
    "baconFile = open('/home/thomy/Documentos/bacon.txt', 'w')\n",
    "baconFile.write('Hello world!\\n')"
   ]
  },
  {
   "cell_type": "code",
   "execution_count": 2,
   "metadata": {},
   "outputs": [],
   "source": [
    "baconFile.close()"
   ]
  },
  {
   "cell_type": "code",
   "execution_count": 13,
   "metadata": {},
   "outputs": [
    {
     "data": {
      "text/plain": [
       "25"
      ]
     },
     "execution_count": 13,
     "metadata": {},
     "output_type": "execute_result"
    }
   ],
   "source": [
    "baconFile = open('/home/thomy/Documentos/bacon.txt', 'a')\n",
    "baconFile.write('Bacon is not a vegetable.')"
   ]
  },
  {
   "cell_type": "code",
   "execution_count": 14,
   "metadata": {},
   "outputs": [],
   "source": [
    "baconFile.close()"
   ]
  },
  {
   "cell_type": "code",
   "execution_count": 17,
   "metadata": {},
   "outputs": [
    {
     "name": "stdout",
     "output_type": "stream",
     "text": [
      "Hello world!\n",
      "Bacon is not a vegetable.\n"
     ]
    }
   ],
   "source": [
    "baconFile = open('/home/thomy/Documentos/bacon.txt')\n",
    "content = baconFile.read()\n",
    "baconFile.close()\n",
    "print(content)"
   ]
  },
  {
   "cell_type": "markdown",
   "metadata": {},
   "source": [
    "Primero, abrimos *bacon.txt* en modo escritura. Dado que *bacon.txt* no existe, Python lo crea. Al llamar `write()` sobre el archivo abierto y pasarle la cadena `'Hello world!\\n'`, escribimos sobre el archivo y Python retorna el número de caracteres escritos, incluyendo la nueva línea. Luego cerramos el archivo.\n",
    "\n",
    "Para agregar texto al archivo existente en lugar remplazar el contenido que acabamos de escribir, abrimos el archivo en modo append y escribimos `'Bacon is not a vegetable'` y lo cerramos. Finalmente, para imprimir el contenido del archivo en pantalla, abrimos el archivo en su modo por defecto, es decir, en modo lectura, llamamos a la función `read()`, almacenamos el objeto `File` resultante en la variable `content`, cerramos el archivo e imprimimos la variable.\n",
    "\n",
    "Nótese que el método `write()` no agrega automáticamente el carácter de cambio de línea al final de la cadena como lo hace la función `print()`. Debemos agrehar este carácter manualmente."
   ]
  },
  {
   "cell_type": "markdown",
   "metadata": {},
   "source": [
    "# Guardando variables con el método `shelve`"
   ]
  },
  {
   "cell_type": "markdown",
   "metadata": {},
   "source": [
    "Podemos guardar variables en nuestros programas de Python en archivos binarios *shelf* usando el módulo `shelve`. De esta manera, nuestros programas podrán restaurar datos para nuestras variables desde el disco duro. El módulo `shelve` nos permite agregar características de guardado y apertura a nuestros programas. Por ejemplo, si abrimos un programas y definimos algunos ajustes de configuración, podemos guardar esos ajustes en un archivo shelf para luego hacer que el programa los cargue la próxima vez que lo corramos. Ingresemos lo siguiente en el shell interactivo."
   ]
  },
  {
   "cell_type": "code",
   "execution_count": 5,
   "metadata": {},
   "outputs": [],
   "source": [
    "import shelve, os\n",
    "\n",
    "os.getcwd()\n",
    "os.chdir('/home/thomy/Documentos/')\n",
    "\n",
    "shelfFile = shelve.open('myData')\n",
    "cats = ['Zophie', 'Pooka', 'Simon']\n",
    "shelfFile['cats'] = cats\n",
    "shelfFile.close()"
   ]
  },
  {
   "cell_type": "code",
   "execution_count": 6,
   "metadata": {},
   "outputs": [
    {
     "data": {
      "text/plain": [
       "['myData.dir',\n",
       " 'bacon.txt',\n",
       " 'myData.bak',\n",
       " 'sonnet29.txt',\n",
       " 'hello.txt',\n",
       " 'myData.dat',\n",
       " 'Project.docx']"
      ]
     },
     "execution_count": 6,
     "metadata": {},
     "output_type": "execute_result"
    }
   ],
   "source": [
    "import os\n",
    "os.getcwd()\n",
    "os.listdir()"
   ]
  },
  {
   "cell_type": "markdown",
   "metadata": {},
   "source": [
    "Para leer y escribir datos usando el módulo `shelve`, debemos importarlo primero. Llamamos `shelve.open()` y le pasamos un nombre de archivo para luego almacenar el valor shelf retornado en una variable. Podemos realizar cambios al valor shelf como si fuese un diccionario. Cuando terminemos, llamamos el método `close()` sobre el valor shelf. En el ejemplo anterior, nuestro valor shelf es almacenado en `shelfFile`. Creamos la lista `cats` y escribimos `shelfFile['cats'] = cats` para almacenar la lista en `shelfFile` como valor asociado a la llave `'cats'` (tal y como funciona un diccionario). Luego llamamos `close()` sobre `shelfFile`.\n",
    "\n",
    "Luego de correr el código anterior, veremos tres nuevos archivos en el directorio de trabajo actual: *mydata.bak*, *mydata.dat* y *mydata.dir*. Estos archivos binarios contienen la información almacenada en el *shelf*. El formato de estos archivos no es importante; sólo necesitamos saber qué hace el módulo `shelve` y no cómo lo hace. El módulo nos libera de preocuparnos sobre el cómo se almacena los datos de nuestro programa en un archivo.\n",
    "\n",
    "Nuestros programas pueden usar el módulo `shelve` para, posteriormente, abrir y recuperar los datos de  los archivos shelf. Los valores shelf no necesitan que se abran en modo escritura o lectura, pueden trabajar con ambos modos una vez abiertos. Veamos el siguiente ejemplo:"
   ]
  },
  {
   "cell_type": "code",
   "execution_count": 7,
   "metadata": {},
   "outputs": [
    {
     "data": {
      "text/plain": [
       "shelve.DbfilenameShelf"
      ]
     },
     "execution_count": 7,
     "metadata": {},
     "output_type": "execute_result"
    }
   ],
   "source": [
    "shelfFile = shelve.open('myData')\n",
    "type(shelfFile)"
   ]
  },
  {
   "cell_type": "code",
   "execution_count": 8,
   "metadata": {},
   "outputs": [
    {
     "data": {
      "text/plain": [
       "['Zophie', 'Pooka', 'Simon']"
      ]
     },
     "execution_count": 8,
     "metadata": {},
     "output_type": "execute_result"
    }
   ],
   "source": [
    "shelfFile['cats']"
   ]
  },
  {
   "cell_type": "code",
   "execution_count": 9,
   "metadata": {},
   "outputs": [],
   "source": [
    "shelfFile.close()"
   ]
  },
  {
   "cell_type": "markdown",
   "metadata": {},
   "source": [
    "En el ejemplo anterior abrimos el archivo `shelf` para verificar que nuestros datos quedaron almacenados correctamente. Al ingresar `shelfFile['cats']`, Python retorna la misma lista que almacenamos previamente. De esta manera nos aseguramos que la lista fue almacenada existosamente. Por último cerramos el archivo llamando `close()`.\n",
    "\n",
    "De la misma manera que los diccionarios, el tipo de dato shelf tiene métodos `keys()` y `values()` que retornarán valores similares a las listas de las llaves y los valores en el shelf. Dado que estos métodos retornan valores similares a las listas, debemos pasarlos a la función `list()` para obtener su valor de tipo lista. Veamos el siguiente ejemplo:"
   ]
  },
  {
   "cell_type": "code",
   "execution_count": 11,
   "metadata": {},
   "outputs": [
    {
     "data": {
      "text/plain": [
       "['cats']"
      ]
     },
     "execution_count": 11,
     "metadata": {},
     "output_type": "execute_result"
    }
   ],
   "source": [
    "shelfFile = shelve.open('myData')\n",
    "list(shelfFile.keys())"
   ]
  },
  {
   "cell_type": "code",
   "execution_count": 12,
   "metadata": {},
   "outputs": [
    {
     "data": {
      "text/plain": [
       "[['Zophie', 'Pooka', 'Simon']]"
      ]
     },
     "execution_count": 12,
     "metadata": {},
     "output_type": "execute_result"
    }
   ],
   "source": [
    "list(shelfFile.values())"
   ]
  },
  {
   "cell_type": "code",
   "execution_count": 13,
   "metadata": {},
   "outputs": [],
   "source": [
    "shelfFile.close()"
   ]
  },
  {
   "cell_type": "markdown",
   "metadata": {},
   "source": [
    "El texto plano es útil para crear archivos que leeremos en un editor de texto como Block de Notas, pero si deseamos almacenar datos desde nuestros programas de Python, resulta más conveniente usar el módulo `shelve`."
   ]
  },
  {
   "cell_type": "markdown",
   "metadata": {},
   "source": [
    "# Guardando variables con la función `pprint.pformat()`"
   ]
  },
  {
   "cell_type": "markdown",
   "metadata": {},
   "source": [
    "Recordemos que la función `pprint()` imprime estéticamente  el contenido de un diccionario en pantalla, mientras que la función `pprint.pformat()` retorna el mismo texto como cadenas de caracteres en lugar de imprimirlo. No sólo esta cadena es formateada para su fácil lectura, sino que es una forma de código sintácticamente correcta de Python. Digamos que tenemos un diccionario almacenado en una variable, y deseamos guardar esta variable y su contenido para un uso futuro. Usar  `pprint.pformat()` nos dará una cadena que podemos escribir en un archivo *.py*. Este archivo será nuestro propio módulo que importaremos cuando necesitemos la variable allí almacenada. Veamos un ejemplo:"
   ]
  },
  {
   "cell_type": "code",
   "execution_count": 15,
   "metadata": {},
   "outputs": [
    {
     "data": {
      "text/plain": [
       "\"[{'desc': 'chubby', 'name': 'Zophie'}, {'desc': 'fluffy', 'name': 'Pooka'}]\""
      ]
     },
     "execution_count": 15,
     "metadata": {},
     "output_type": "execute_result"
    }
   ],
   "source": [
    "import pprint\n",
    "cats = [{'name': 'Zophie', 'desc': 'chubby'}, {'name': 'Pooka', 'desc': 'fluffy'}]\n",
    "pprint.pformat(cats)"
   ]
  },
  {
   "cell_type": "code",
   "execution_count": 20,
   "metadata": {},
   "outputs": [
    {
     "data": {
      "text/plain": [
       "83"
      ]
     },
     "execution_count": 20,
     "metadata": {},
     "output_type": "execute_result"
    }
   ],
   "source": [
    "fileObj = open('myCats.py', 'w')\n",
    "fileObj.write('cats = ' + pprint.pformat(cats) + '\\n')"
   ]
  },
  {
   "cell_type": "code",
   "execution_count": 21,
   "metadata": {},
   "outputs": [],
   "source": [
    "fileObj.close()"
   ]
  },
  {
   "cell_type": "markdown",
   "metadata": {},
   "source": [
    "En el ejemplo anterior importamos `pprint` ya que nos permite usar `pprint.pformat()`. Tenemos una lista de diccionarios almacenada en en la variable `cats`. Para mantener la lista en la variable `cats` incluso después de cerrar el jupyter notebook o el IDE, usamos `pprint.pformat()` para retornarla como cadena de caracteres. Una vez tenemos los datos en `cats` como cadena, resulta fácil escribirla en una archivo llamado *myCats.py.*\n",
    "\n",
    "Los módulos que importa el estamento `import`, de hecho son scripts en Python, cuando la cadena retornada por `pprint.pformat()` es guardada en un archivo *.py*, éste es un módulo que puede ser importado justo como también otro.\n",
    "\n",
    "Finalmente, dado que los scripts en Python son sólo texto con la extensión *.py*, nuestros progreamas en pueden generar incluso otros programas. Luego podemos importar dicho archivos a manera de scripts:\n"
   ]
  },
  {
   "cell_type": "code",
   "execution_count": 22,
   "metadata": {},
   "outputs": [
    {
     "data": {
      "text/plain": [
       "[{'desc': 'chubby', 'name': 'Zophie'}, {'desc': 'fluffy', 'name': 'Pooka'}]"
      ]
     },
     "execution_count": 22,
     "metadata": {},
     "output_type": "execute_result"
    }
   ],
   "source": [
    "import myCats\n",
    "myCats.cats"
   ]
  },
  {
   "cell_type": "code",
   "execution_count": 23,
   "metadata": {},
   "outputs": [
    {
     "data": {
      "text/plain": [
       "{'desc': 'chubby', 'name': 'Zophie'}"
      ]
     },
     "execution_count": 23,
     "metadata": {},
     "output_type": "execute_result"
    }
   ],
   "source": [
    "myCats.cats[0]"
   ]
  },
  {
   "cell_type": "code",
   "execution_count": 25,
   "metadata": {},
   "outputs": [
    {
     "data": {
      "text/plain": [
       "'Zophie'"
      ]
     },
     "execution_count": 25,
     "metadata": {},
     "output_type": "execute_result"
    }
   ],
   "source": [
    "myCats.cats[0]['name']"
   ]
  },
  {
   "cell_type": "markdown",
   "metadata": {},
   "source": [
    "El beneficio de crear un archivo *.py*, a diferencia de guardar variables usando el módulo `shelve`, es que debido a que el primero es un archivo de texto, el contenido de este puede ser leído o modificado por cualquiera con un editor de texto. Para la mayoría de aplicaciones, sin embargo, guardar los datos usando el módulo `shelve` es la forma preferida para guardar variables en un archivo. Sólo tipo de datos básicos como enteros, números de punto flotante, cadenas, listas y diccionarios, pueden ser almacenados como texto simple. Los objetos `File`, por ejemplo, no pueden ser codificados como texto."
   ]
  },
  {
   "cell_type": "markdown",
   "metadata": {},
   "source": [
    "# Proyecto: Generando archivos aleatorios para evaluaciones"
   ]
  },
  {
   "cell_type": "markdown",
   "metadata": {},
   "source": [
    "Supongamos que usted es un profesor de geografía con 35 estudiantes en su clase y desea realizar in quiz sobre las capitales de los departamentos de Colombia. Nuestros estudiantes tienden a hacer trampa y no podemos confiar en ellos. Nos gustaría organizar aleatoriamente el orden de las preguntas de forma tal que cada quiz sea único, haciéndolo imposible para que los estudiantes puedan copiar sus respuestas de otro. Hacer esto a mano puede ser un poco tedioso y demandante en tiempo. Afortunadamente, sabemos un poco de Python.\n",
    "He aquí lo deseamos que nuestro programa realice:\n",
    "\n",
    "+ Crear 35 quizzes diferente.\n",
    "+ Crear 32 preguntas de selección multiple para cada quiz en orden aleatorio.\n",
    "+ Suministrar la respuesta correcta y tres respuestas incorrectas de forma aleatoria.\n",
    "+ Escribir los quizzes en 35 archivos.\n",
    "+ Escribir las respuestas de los 35 archivos de texto.\n",
    "\n",
    "Esto significa que nuestro programa hará lo siguiente:\n",
    "\n",
    "+ Almacenar los departamentos y las capitales en un diccionario\n",
    "+ Llamar a las funciones `open()`, `write()` y `close()` para el quiz y el archivo de respuestas.\n",
    "+ Usar `random.shuffle()` para ordenar aleatoriamente las preguntas y las opciones de selección multiple"
   ]
  },
  {
   "cell_type": "markdown",
   "metadata": {},
   "source": [
    "## Paso1: Almacenar los datos del quiz en un diccionario"
   ]
  },
  {
   "cell_type": "markdown",
   "metadata": {},
   "source": [
    "El primer paso es crear el esqueleto y llenarlo con los datos del examen. Creemos un archivo llamado *randomQuizGenerator.py* y hagamos que luzca de la siguiente manera."
   ]
  },
  {
   "cell_type": "code",
   "execution_count": 1,
   "metadata": {},
   "outputs": [
    {
     "name": "stdout",
     "output_type": "stream",
     "text": [
      "/home/thomy/anaconda3/bin/python\n"
     ]
    }
   ],
   "source": [
    "import sys\n",
    "\n",
    "print(sys.executable)"
   ]
  },
  {
   "cell_type": "code",
   "execution_count": null,
   "metadata": {},
   "outputs": [],
   "source": [
    "#! /home/thomy/anaconda3/bin/python\n",
    "# randomQuizGenerator.py - Crea los quizzes con preguntas y respuestas alatorias\n",
    "# así como el archivo de respuestaser key.\n",
    "\n",
    "import random\n",
    "\n",
    "# Información del quiz. \n",
    "# Diccionaro cuyas llaves son los departamentos y los valores las capitales\n",
    "\n",
    "capitales = {'Amazonas': 'Leticia',\n",
    "'Antioquia': 'Medellín',\n",
    "'Arauca': 'Arauca',\n",
    "'Atlántico': 'Barranquilla',\n",
    "'Bolívar': 'Cartagena',\n",
    "'Boyacá': 'Tunja',\n",
    "'Caldas': 'Manizales',\n",
    "'Caquetá': 'Florencia',\n",
    "'Casanare': 'Yopal',\n",
    "'Cauca': 'Popayán',\n",
    "'Cesar': 'Valledupar',\n",
    "'Chocó': 'Quibdó',\n",
    "'Córdoba': 'Montería',\n",
    "'Cundinamarca': 'Bogotá',\n",
    "'Guainía': 'Puerto Inírida',\n",
    "'Guaviare': 'San José del Guaviare',\n",
    "'Huila': 'Neiva',\n",
    "'La Guajira': 'Riohacha',\n",
    "'Magdalena': 'Santa Marta',\n",
    "'Meta': 'Villavicencio',\n",
    "'Nariño': 'Pasto',\n",
    "'Norte de Santander': 'Cúcuta',\n",
    "'Putumayo': 'Mocoa',\n",
    "'Quindio': 'Armenia',\n",
    "'Risaralda': 'Pereira',\n",
    "'San Andres y Providencia': 'San Andres',\n",
    "'Santander': 'Bucaramanga',\n",
    "'Sucre': 'Sincelejo',\n",
    "'Tolima': 'Ibagué',\n",
    "'Valle del Cauca': 'Cali',\n",
    "'Vaupés': 'Mitú',\n",
    "'Vichada': 'Puerto Carreño'}\n",
    "\n",
    "# Generar los 35 archivos del quiz\n",
    "\n",
    "for quizNum in range(35):\n",
    "    # TODO: Crear el quiz y los archivos de respuestas\n",
    "    \n",
    "    #TODO: Escribir el encabezado para el quiz\n",
    "    \n",
    "    #TODO: Organizar aleatoriamente el orden de los departamentos\n",
    "    \n",
    "    #TODO Iterar a través de los 32 departamentos creando una pregunta para cada uno"
   ]
  },
  {
   "cell_type": "markdown",
   "metadata": {},
   "source": [
    "Dado que nuestro programa ordenará aleatoriamente las preguntas y respuestas, necesitaremos importar el módulo `random` para usar sus funciones. La variable `capitales` contiene un diccionario con todos los departamentos de Colombia como llaves y sus respectivas capitales como valores. Y dado que, deseamos crear 35 quizzes, el código que de hecho genera el qiuz y el archivo de respuestas (marcado por el momento como comentarios `TODO`), iría dentro del ciclo `for` que iterará 35 veces (Este número puede cambiar dependiendo de la cantidad de quizzes a generar)."
   ]
  },
  {
   "cell_type": "markdown",
   "metadata": {},
   "source": [
    "## Paso 2: Crear el archivo del quiz y ordenar aleatoriamente las preguntas"
   ]
  },
  {
   "cell_type": "markdown",
   "metadata": {},
   "source": [
    "Ahora es momento de empezar a llenar los `TODO`.\n",
    "El código en el ciclo iterará 35 veces, una vez por cada quiz, de forma tal que nos preocupemos sólo por un quiz al tiempo dentro del ciclo de repetición. Primero debemos crear el archivo quiz. Éste debe tener un nombre de archivo único y también debe tener algún tipo de encabezado estándar con espacios en blanco para que el estudiante llene con su nombre, fecha y grupo. Luego necesitamos obtener una lista de departamentos en orden aleatorio, el cual será utilizado posteriormente en la creación de las preguntas y las respuestas para el quiz.\n",
    "\n",
    "Ingresemos las siguientes lpineas de código al archivo *randomQuizGenerator.py*."
   ]
  },
  {
   "cell_type": "code",
   "execution_count": null,
   "metadata": {},
   "outputs": [],
   "source": [
    "#! /home/thomy/anaconda3/bin/python\n",
    "# randomQuizGenerator.py - Crea los quizzes con preguntas y respuestas alatorias\n",
    "# así como el archivo de respuestaser key.\n",
    "\n",
    "import random\n",
    "\n",
    "# Información del quiz. \n",
    "# Diccionaro cuyas llaves son los departamentos y los valores las capitales\n",
    "\n",
    "capitales = {'Amazonas': 'Leticia',\n",
    "'Antioquia': 'Medellín',\n",
    "'Arauca': 'Arauca',\n",
    "'Atlántico': 'Barranquilla',\n",
    "'Bolívar': 'Cartagena',\n",
    "'Boyacá': 'Tunja',\n",
    "'Caldas': 'Manizales',\n",
    "'Caquetá': 'Florencia',\n",
    "'Casanare': 'Yopal',\n",
    "'Cauca': 'Popayán',\n",
    "'Cesar': 'Valledupar',\n",
    "'Chocó': 'Quibdó',\n",
    "'Córdoba': 'Montería',\n",
    "'Cundinamarca': 'Bogotá',\n",
    "'Guainía': 'Puerto Inírida',\n",
    "'Guaviare': 'San José del Guaviare',\n",
    "'Huila': 'Neiva',\n",
    "'La Guajira': 'Riohacha',\n",
    "'Magdalena': 'Santa Marta',\n",
    "'Meta': 'Villavicencio',\n",
    "'Nariño': 'Pasto',\n",
    "'Norte de Santander': 'Cúcuta',\n",
    "'Putumayo': 'Mocoa',\n",
    "'Quindio': 'Armenia',\n",
    "'Risaralda': 'Pereira',\n",
    "'San Andres y Providencia': 'San Andres',\n",
    "'Santander': 'Bucaramanga',\n",
    "'Sucre': 'Sincelejo',\n",
    "'Tolima': 'Ibagué',\n",
    "'Valle del Cauca': 'Cali',\n",
    "'Vaupés': 'Mitú',\n",
    "'Vichada': 'Puerto Carreño'}\n",
    "\n",
    "# Generar los 35 archivos del quiz\n",
    "for quizNum in range(35):\n",
    "    # Creamos el archivo del quiz y el de respuestas\n",
    "    quizFile = open('capitalsquiz%s.txt' % (quizNum + 1), 'w')\n",
    "    answerKeyFile = open('capitalsquiz_answers%s.txt' % (quizNum + 1), 'w')\n",
    "    \n",
    "    # Escribimos el encabezado del quiz\n",
    "    quizFile.write('Nombre:\\n\\nFecha:\\n\\nGrupo:\\n\\n')\n",
    "    quizFile.write((' ' * 20) + 'Quiz: Capitales de los departamentos de Colombia (Formulario %s)' % (quizNum + 1))\n",
    "    quiz.File.write('\\n\\n')\n",
    "    \n",
    "    # Organizamos aleatoriamente los departamentos\n",
    "    departamentos = list(capitales.keys())\n",
    "    random.shuffle(departamentos)\n",
    "    \n",
    "    # TODO: Iterar sobre los 32 departamentos creando una pregunta para cada uno."
   ]
  },
  {
   "cell_type": "markdown",
   "metadata": {},
   "source": [
    "El nombre de archivo para los quizzes será *capitalsquiz[N].txt*, donde [N] es un único número para el quiz que viene dado por la variable `quizNum`, el contador del ciclo `for`. El archivo de respuestas para *capitalsquiz[N].txt*, será almacenado en un archivo llamado *capitalsquiz_answers[N].txt*. Cada vez que se itera en el ciclo, el marcador de posición `%s` en `'capitalsquiz%s.txt'` y `'capitalsquiz_answers%s.txt'`, será reemplazado por `(quizNum + 1)`, así el primer quiz y el archivo de respuestas se llamarán *capitalsquiz1.txt* y *capitalsquiz_answers1.txt*, respectivamente. Estos archivos serán creados mediante el llamado a la función `open()`, con segundo argumento `'w'` para abrirlos en modo escritura.\n",
    "\n",
    "El estamento `write()`, crea el encabezado del quiz para que los estudiantes diligencien con su nombre, fecha y grupo. Finalmente, una lista aleatoria de los departamentos de Colombia es creada con la ayuda de la función `random.shuffle()`, la cual organiza aleatoriamente los valores en una lista que le es pasada como argumento."
   ]
  },
  {
   "cell_type": "markdown",
   "metadata": {},
   "source": [
    "## Paso 3: Crear las opciones de respuesta"
   ]
  },
  {
   "cell_type": "markdown",
   "metadata": {},
   "source": [
    "Ahora, necesitamos generar las opciones de respuestas para cada pregunta de selección múltiple de A hasta D. Para esto, necesitamos crear otro ciclo de cara a generar el contenido para cada una de las 32 preguntas del quiz. Luego, habrá un tercer ciclo anidado para generar las opciones de selección múltiple para cada pregunta. "
   ]
  },
  {
   "cell_type": "code",
   "execution_count": null,
   "metadata": {},
   "outputs": [],
   "source": [
    "#! /home/thomy/anaconda3/bin/python\n",
    "# randomQuizGenerator.py - Crea los quizzes con preguntas y respuestas alatorias\n",
    "# así como el archivo de respuestaser key.\n",
    "\n",
    "import random\n",
    "\n",
    "# Información del quiz. \n",
    "# Diccionaro cuyas llaves son los departamentos y los valores las capitales\n",
    "\n",
    "capitales = {'Amazonas': 'Leticia',\n",
    "'Antioquia': 'Medellín',\n",
    "'Arauca': 'Arauca',\n",
    "'Atlántico': 'Barranquilla',\n",
    "'Bolívar': 'Cartagena',\n",
    "'Boyacá': 'Tunja',\n",
    "'Caldas': 'Manizales',\n",
    "'Caquetá': 'Florencia',\n",
    "'Casanare': 'Yopal',\n",
    "'Cauca': 'Popayán',\n",
    "'Cesar': 'Valledupar',\n",
    "'Chocó': 'Quibdó',\n",
    "'Córdoba': 'Montería',\n",
    "'Cundinamarca': 'Bogotá',\n",
    "'Guainía': 'Puerto Inírida',\n",
    "'Guaviare': 'San José del Guaviare',\n",
    "'Huila': 'Neiva',\n",
    "'La Guajira': 'Riohacha',\n",
    "'Magdalena': 'Santa Marta',\n",
    "'Meta': 'Villavicencio',\n",
    "'Nariño': 'Pasto',\n",
    "'Norte de Santander': 'Cúcuta',\n",
    "'Putumayo': 'Mocoa',\n",
    "'Quindio': 'Armenia',\n",
    "'Risaralda': 'Pereira',\n",
    "'San Andres y Providencia': 'San Andres',\n",
    "'Santander': 'Bucaramanga',\n",
    "'Sucre': 'Sincelejo',\n",
    "'Tolima': 'Ibagué',\n",
    "'Valle del Cauca': 'Cali',\n",
    "'Vaupés': 'Mitú',\n",
    "'Vichada': 'Puerto Carreño'}\n",
    "\n",
    "# Generar los 35 archivos del quiz\n",
    "for quizNum in range(35):\n",
    "    # Creamos el archivo del quiz y el de respuestas\n",
    "    quizFile = open('capitalsquiz%s.txt' % (quizNum + 1), 'w')\n",
    "    answerKeyFile = open('capitalsquiz_answers%s.txt' % (quizNum + 1), 'w')\n",
    "    \n",
    "    # Escribimos el encabezado del quiz\n",
    "    quizFile.write('Nombre:\\n\\nFecha:\\n\\nGrupo:\\n\\n')\n",
    "    quizFile.write((' ' * 20) + 'Quiz: Capitales de los departamentos de Colombia (Formulario %s)' % (quizNum + 1))\n",
    "    quiz.File.write('\\n\\n')\n",
    "    \n",
    "    # Organizamos aleatoriamente los departamentos\n",
    "    departamentos = list(capitales.keys())\n",
    "    random.shuffle(departamentos)\n",
    "    \n",
    "# Iteramos a través de los 32 departamentos, creando un pregunta para cada uno\n",
    "    for questionNum in range(32):\n",
    "        # Obtenemos las respuestas correctas y las incorrectas\n",
    "        correctAnswer = capitales[departamentos[questionNum]]\n",
    "        wrongAnswers = list(capitales.values())\n",
    "        del wrongAnswers[wrongAnswers.index(correctAnswer)]\n",
    "        wrongAnswers = random.sample(wrongAnswers, 3)\n",
    "        answerOptions = wrongAnswers + [correctAnswer]\n",
    "        random.shuffle(answerOptions)\n",
    "        \n",
    "        # TODO: Escribir las preguntas y las opciones de respuestas en el archivo del quiz\n",
    "        \n",
    "        # TODO: Escribir las respuestas en un archivo."
   ]
  },
  {
   "cell_type": "markdown",
   "metadata": {},
   "source": [
    "La lista de las posibles respuestas incorrectas es un poco más complicado. Se obtienen tras duplicar todos los valores en el diccionario `capitales`, eliminando la respuesta correcta y seleccionando tres valores aleatorios de la lista. La función `random.sample()` nos facilita la realización de esta selección. El primer argumento es la lista desde la cual vamos a empezar a seleccionar; El segundo argumento es el número de valores que deseamos seleccionar. La lista completa de respuestas es la combinación de estas tres respuestas incorrectas con las respuestas correctas. Finalmente, las respuestas necesitan ser organizadas aleatoriamente con el objetivo de que las respuesta correcta no sea siempre la opción D."
   ]
  },
  {
   "cell_type": "markdown",
   "metadata": {},
   "source": [
    "## Paso 4: Escribir el contenido de los archivos del quiz y el archivo de respuestas"
   ]
  },
  {
   "cell_type": "markdown",
   "metadata": {},
   "source": [
    "Todo lo que queda haciendo falta es escribir la pregunta al archivo del quiz y la respuesta al archivo de respuestas. Veamos: "
   ]
  },
  {
   "cell_type": "code",
   "execution_count": 9,
   "metadata": {},
   "outputs": [],
   "source": [
    "#! /home/thomy/anaconda3/bin/python\n",
    "# randomQuizGenerator.py - Crea los quizzes con preguntas y respuestas alatorias\n",
    "# así como el archivo de respuestaser key.\n",
    "\n",
    "import random\n",
    "\n",
    "# Información del quiz. \n",
    "# Diccionaro cuyas llaves son los departamentos y los valores las capitales\n",
    "\n",
    "capitales = {'Amazonas': 'Leticia',\n",
    "'Antioquia': 'Medellín',\n",
    "'Arauca': 'Arauca',\n",
    "'Atlántico': 'Barranquilla',\n",
    "'Bolívar': 'Cartagena',\n",
    "'Boyacá': 'Tunja',\n",
    "'Caldas': 'Manizales',\n",
    "'Caquetá': 'Florencia',\n",
    "'Casanare': 'Yopal',\n",
    "'Cauca': 'Popayán',\n",
    "'Cesar': 'Valledupar',\n",
    "'Chocó': 'Quibdó',\n",
    "'Córdoba': 'Montería',\n",
    "'Cundinamarca': 'Bogotá',\n",
    "'Guainía': 'Puerto Inírida',\n",
    "'Guaviare': 'San José del Guaviare',\n",
    "'Huila': 'Neiva',\n",
    "'La Guajira': 'Riohacha',\n",
    "'Magdalena': 'Santa Marta',\n",
    "'Meta': 'Villavicencio',\n",
    "'Nariño': 'Pasto',\n",
    "'Norte de Santander': 'Cúcuta',\n",
    "'Putumayo': 'Mocoa',\n",
    "'Quindio': 'Armenia',\n",
    "'Risaralda': 'Pereira',\n",
    "'San Andres y Providencia': 'San Andres',\n",
    "'Santander': 'Bucaramanga',\n",
    "'Sucre': 'Sincelejo',\n",
    "'Tolima': 'Ibagué',\n",
    "'Valle del Cauca': 'Cali',\n",
    "'Vaupés': 'Mitú',\n",
    "'Vichada': 'Puerto Carreño'}\n",
    "\n",
    "# Generar los 35 archivos del quiz\n",
    "for quizNum in range(35):\n",
    "    # Creamos el archivo del quiz y el de respuestas\n",
    "    quizFile = open('capitalsquiz%s.txt' % (quizNum + 1), 'w')\n",
    "    answerKeyFile = open('capitalsquiz_answers%s.txt' % (quizNum + 1), 'w')\n",
    "    \n",
    "    # Escribimos el encabezado del quiz\n",
    "    quizFile.write('Nombre:\\n\\nFecha:\\n\\nGrupo:\\n\\n')\n",
    "    quizFile.write((' ' * 20) + 'Quiz: Capitales de los departamentos de Colombia (Formulario %s)' % (quizNum + 1))\n",
    "    quizFile.write('\\n\\n')\n",
    "    \n",
    "    # Organizamos aleatoriamente los departamentos\n",
    "    departamentos = list(capitales.keys())\n",
    "    random.shuffle(departamentos)\n",
    "    \n",
    "# Iteramos a través de los 32 departamentos, creando un pregunta para cada uno\n",
    "    for questionNum in range(32):\n",
    "        # Obtenemos las respuestas correctas y las incorrectas\n",
    "        correctAnswer = capitales[departamentos[questionNum]]\n",
    "        wrongAnswers = list(capitales.values())\n",
    "        del wrongAnswers[wrongAnswers.index(correctAnswer)]\n",
    "        wrongAnswers = random.sample(wrongAnswers, 3)\n",
    "        answerOptions = wrongAnswers + [correctAnswer]\n",
    "        random.shuffle(answerOptions)\n",
    "        \n",
    "        # Escribamos la pregunta y las opciones de respuesta en el archivo del quiz\n",
    "        quizFile.write('%s. Cual es la capital de %s?\\n' % (questionNum + 1, departamentos[questionNum]))\n",
    "        \n",
    "        for i in range(4):\n",
    "            quizFile.write('    %s. %s\\n' % ('ABCD'[i], answerOptions[i]))\n",
    "\n",
    "        quizFile.write('\\n')\n",
    "            \n",
    "        # Escribamos las respuestas en un archivo.\n",
    "        answerKeyFile.write('%s. %s\\n' % (questionNum + 1, 'ABCD'[answerOptions.index(correctAnswer)]))\n",
    "    quizFile.close()\n",
    "    answerKeyFile.close()"
   ]
  },
  {
   "cell_type": "markdown",
   "metadata": {},
   "source": [
    "Un ciclo `for` que itera a través de los enteros ubicados en el rango de 0 a 3, escribirá las opciones de respuesta en la lista `answerOptions`. La expresión `'ABCD'[i]` trata la cadena como un arreglo y se evaluara a  `'A'`, `'B'`, `'C'`, y `'D'` para iteración.\n",
    "\n",
    "En la línea final, la expresión `answerOptions.index(correctAnswer)` encontrará el índice entero de la respuesta correcta en las opciones ordenadas aleatoriamente, y `'ABCD'[answerOptions.index(correctAnswer)]` se evaluará a la letra de la respuesta correcta a ser inscrita en el archivo de respuestas.\n",
    "\n",
    "Luego de correr el programa, así es como el archivo *capitalsquiz1.txt* lucirá; obviamente sus preguntas y respuestas lucirán diferentes a las mostradas aquí, esto es debido al resultado obtenido por el llamado a la función `random.shuffle()` y su naturaleza aleatoria."
   ]
  },
  {
   "cell_type": "markdown",
   "metadata": {},
   "source": [
    "# Proyecto: Multiclipboard"
   ]
  },
  {
   "cell_type": "markdown",
   "metadata": {},
   "source": [
    "Supongamos que tenemos la tediosa tarea de llenar formularios en una página web o algún software con varios campos de texto. El portapapeles nos salva de estar escribiendo el mismo texto una y otra vez. Desafortunadamente para nuestro propósito, sólo se puede almacenar un solo dato en el portapapeles a la vez. Si tenemos varios fragmentos de texto que necesitamos copiar y pegar, debemos resaltar y copiar una y otra vez para cada fragmento.\n",
    "\n",
    "Afortunadamente, podemos escribir un programa en Python para llevar un registro de diferentes fragmentos de texto a la vez. A este multiportapapales o *multiclipboard* lo llamaremos *mcb.pyw* (*mcb* es la abreviación de multiclipboard). La extensión *.pyw* significa que Python no mostrará una ventana de terminal cuando corramos el programa.\n",
    "\n",
    "El programa guardará cada fragmento de texto en el portapapeles bajo un palabra clave. Por ejemplo, cuando corramos `py mcb.pyw save spam`, el contenido actual del portapapeles será almacenado en la palabra clave *spam*. Este texto puede ser cargado posteriormente al portapapeles corriendo `py mcb.pyw spam`. Adicionalmente, si el usuario olvida las palabras clave, pueden correr ` py mcb.pyw list` para copiar todas las palabras clave al portapapeles.\n",
    "\n",
    "He aquí lo que hace el programa:"
   ]
  },
  {
   "cell_type": "markdown",
   "metadata": {},
   "source": [
    "+ El argumento de la línea de comando es verificado\n",
    "+ Si el argumento es `save`, el contenido del portapapeles es almacenado en la palabra clave\n",
    "+ Si el argumento es `list`, todas las palabras clave son copiadas al portapapeles\n",
    "+ De lo contrario, el texto de la palabra clave es copiado al portapapeles.\n",
    "\n",
    "Esto significa que:\n",
    "\n",
    "+ Leemos los argumentos de la línea de comandos desde `sys.argv`\n",
    "+ Leemos y escribimos en el portapapeles\n",
    "+ Guardamos y cargamos en un archivo shelf\n",
    "\n",
    "Si estamos usando Windows, podemos fácilmente, correr este script desde la ventana de ejecutar mediante la creación de un archivo batch llamado *mcb.bat* con el siguiente contenido:"
   ]
  },
  {
   "cell_type": "code",
   "execution_count": null,
   "metadata": {},
   "outputs": [],
   "source": [
    "@pyw.exe C:\\thomy\\pythonscrpts\\mcb.pyw %*"
   ]
  },
  {
   "cell_type": "markdown",
   "metadata": {},
   "source": [
    "## Paso 1: Comentarios y configuración del shelf"
   ]
  },
  {
   "cell_type": "markdown",
   "metadata": {},
   "source": [
    "Empecemos por crear un script con el esqueleto definido por algunos comentarios y la configuración básica. Escribamos lo siguiente:"
   ]
  },
  {
   "cell_type": "code",
   "execution_count": null,
   "metadata": {},
   "outputs": [],
   "source": [
    "#! /home/thomy/anaconda3/bin/python\n",
    "# mcb.pyw - Guarda y carga fragmentos de texto en el portapapeles\n",
    "# Modo de uso: py.exe mcb.pyw save <keyword> - guarda el portapapeles en la palabra clave.\n",
    "#              py.exe mcb.pyw <keyword> - carga la palabra clave al portapapeles.\n",
    "#              py.exe mcb.pyw list - carga todas las palabras clave al portapapeles\n",
    "\n",
    "\n",
    "import shelve, pyperclip, sys\n",
    "\n",
    "mcbShelf = shelve.open('mcb')\n",
    "\n",
    "# TODO: Guarda el contenido del portapapeles\n",
    "\n",
    "# TODO: Lista las palabras clave y carga su contenido\n",
    "\n",
    "mcbShelf.close()"
   ]
  },
  {
   "cell_type": "markdown",
   "metadata": {},
   "source": [
    "Es una práctica común el poner la información acerca del uso de los programas en los comentarios al inicio del código. Si en algún momento olvidamos cómo correr el script, siempre podemos volver a los comentarios para recordarlo. \n",
    "\n",
    "En la segunda parte del script importamos los módulos necesarios para nuestro programa. Copiar y pegar en el portapapeles requiere el módulo `pyperclip` y leer los argumentos de la línea de comandos requiere el módulo `sys`. Por otro lado, el módulo `shelve` nos será de utilidad cuando un usuario desee guardar un fragmento de texto en el portapapeles y lo almacenemos como un archivo shelf. Luego cuando el usuario desee copiar de vuelta el texto previamente almacenado en el portapapeles, abriremos el archivo shelf y lo cargaremos en el programa. El archivo shelf será nombrado con el prefijo *mcb*."
   ]
  },
  {
   "cell_type": "markdown",
   "metadata": {},
   "source": [
    "## Paso 2: Guardar el contenido del portapapeles con una palabra clave"
   ]
  },
  {
   "cell_type": "markdown",
   "metadata": {},
   "source": [
    "El programa realiza diferentes tareas dependiendo de si el usuario desea guardar texto en el portapapeles, cargar fragmentos de texto o listar las palabras claves. Empecemos por el principio, escribamos el siguiente código fuente."
   ]
  },
  {
   "cell_type": "code",
   "execution_count": null,
   "metadata": {},
   "outputs": [],
   "source": [
    "#! /home/thomy/anaconda3/bin/python\n",
    "# mcb.pyw - Guarda y carga fragmentos de texto en el portapapeles\n",
    "# Modo de uso: py.exe mcb.pyw save <keyword> - guarda el portapapeles en la palabra clave.\n",
    "#              py.exe mcb.pyw <keyword> - carga la palabra clave al portapapeles.\n",
    "#              py.exe mcb.pyw list - carga todas las palabras clave al portapapeles\n",
    "\n",
    "\n",
    "import shelve, pyperclip, sys\n",
    "\n",
    "mcbShelf = shelve.open('mcb')\n",
    "\n",
    "# Guardamos el contenido del portapapeles\n",
    "if len(sys.argv) == 3 and sys.argv[1].lower() == 'save':\n",
    "    mcbShelf[sys.argv[2]] = pyperclip.paste()\n",
    "elif len(sys.argv) == 2:\n",
    "    # TODO: Listar las palabras clave y cargar el contenido\n",
    "\n",
    "\n",
    "mcbShelf.close()\n"
   ]
  },
  {
   "cell_type": "markdown",
   "metadata": {},
   "source": [
    "Si el primer argumento de la línea de comandos (el cual siempre va a tener índice 1 de la lista `sys.argv`) es `'save'`, el segundo argumento de la línea de comandos debe ser la palabra clave para el contenido actual del portapapeles. La palabra clave será usada como llave para `mcbShelf` y el valor será el texto actual del portapapeles.\n",
    "\n",
    "Si sólo hay un argumento en la línea de comandos, podemos suponer que es `'list'` o la palabra clave para cargar su contenido en el portapapeles. Podemos implementar el código para esto más tarde, por lo pronto, pongamos un comentario `TODO`."
   ]
  },
  {
   "cell_type": "markdown",
   "metadata": {},
   "source": [
    "## Paso 3: Listar las palabras clave y cargar el contenido de la palabra clave"
   ]
  },
  {
   "cell_type": "markdown",
   "metadata": {},
   "source": [
    "Finalmente, implementemos los casos restantes: El usuario desea cargar el texto del portapapeles a partir de la palabra clave, o desea listar todas las palabras clave disponibles. Hagamos que nuestro script luzca de la siguiente manera:"
   ]
  },
  {
   "cell_type": "code",
   "execution_count": null,
   "metadata": {},
   "outputs": [],
   "source": [
    "#! /home/thomy/anaconda3/bin/python\n",
    "# mcb.pyw - Guarda y carga fragmentos de texto en el portapapeles\n",
    "# Modo de uso: py.exe mcb.pyw save <keyword> - guarda el portapapeles en la palabra clave.\n",
    "#              py.exe mcb.pyw <keyword> - carga la palabra clave al portapapeles.\n",
    "#              py.exe mcb.pyw list - carga todas las palabras clave al portapapeles\n",
    "\n",
    "\n",
    "import shelve, pyperclip, sys\n",
    "\n",
    "mcbShelf = shelve.open('mcb')\n",
    "\n",
    "# Guardamos el contenido del portapapeles\n",
    "if len(sys.argv) == 3 and sys.argv[1].lower() == 'save':\n",
    "    mcbShelf[sys.argv[2]] = pyperclip.paste()\n",
    "elif len(sys.argv) == 2:\n",
    "    # Listamos las palabras clave y cargamos el contenido\n",
    "    if sys.argv[1].lower() == 'list':\n",
    "        pyperclip.copy(str(list(mcbShelf.keys())))\n",
    "    elif sys.argv[1] in mcbShelf:\n",
    "        pyperclip.copy(mcbShelf[sys.argv[1]])\n",
    "\n",
    "mcbShelf.close()"
   ]
  },
  {
   "cell_type": "markdown",
   "metadata": {},
   "source": [
    "Si únicamente existe un argumento en la línea de comandos, verificamos primero si es `'list'`. En caso afirmativo, una representación en cadena de caracteres de la lista de las llaves será copiada al portapapeles. El usuario podrá pegar esta lista en un editoir de texto para leerla.\n",
    "\n",
    "De lo contrario, podemos asumir que el argumento de la lista de comandos es una palabra clave. Si esta existe en `mcbShelf` como llave, cargamos su valor correspondiente al portapapeles."
   ]
  }
 ],
 "metadata": {
  "kernelspec": {
   "display_name": "Python 3",
   "language": "python",
   "name": "python3"
  },
  "language_info": {
   "codemirror_mode": {
    "name": "ipython",
    "version": 3
   },
   "file_extension": ".py",
   "mimetype": "text/x-python",
   "name": "python",
   "nbconvert_exporter": "python",
   "pygments_lexer": "ipython3",
   "version": "3.7.4"
  },
  "toc": {
   "base_numbering": 1,
   "nav_menu": {},
   "number_sections": true,
   "sideBar": true,
   "skip_h1_title": false,
   "title_cell": "Tabla de contenidos",
   "title_sidebar": "Contenidos",
   "toc_cell": true,
   "toc_position": {
    "height": "calc(100% - 180px)",
    "left": "10px",
    "top": "150px",
    "width": "384px"
   },
   "toc_section_display": true,
   "toc_window_display": true
  }
 },
 "nbformat": 4,
 "nbformat_minor": 2
}
